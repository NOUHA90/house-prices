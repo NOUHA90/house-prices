{
 "cells": [
  {
   "cell_type": "markdown",
   "metadata": {},
   "source": [
    "# **House Prices - Advanced Regression Techniques**"
   ]
  },
  {
   "cell_type": "code",
   "execution_count": 1,
   "metadata": {},
   "outputs": [],
   "source": [
    "from IPython.display import Image\n",
    "Image('housesbanner.png')"
   ]
  },
  {
   "cell_type": "markdown",
   "metadata": {},
   "source": [
    "# Pipline"
   ]
  },
  {
   "cell_type": "code",
   "execution_count": 2,
   "metadata": {},
   "outputs": [],
   "source": [
    "# Import library\n",
    "import pandas  as pd #Data manipulation\n",
    "import numpy as np #Data manipulation\n",
    "import matplotlib.pyplot as plt # Visualization\n",
    "import seaborn as sns #Visualization\n",
    "from IPython.display import Image\n",
    "from sklearn.compose import ColumnTransformer\n",
    "from sklearn.datasets import fetch_openml\n",
    "from sklearn.pipeline import Pipeline\n",
    "from sklearn.impute import SimpleImputer\n",
    "from sklearn.preprocessing import StandardScaler, OneHotEncoder\n",
    "from sklearn.linear_model import LinearRegression\n",
    "from sklearn.linear_model import LogisticRegression\n",
    "from sklearn import svm\n",
    "from sklearn.model_selection import train_test_split, GridSearchCV\n",
    "from sklearn import set_config\n",
    "%matplotlib inline\n",
    "import warnings\n",
    "warnings.filterwarnings('ignore')\n",
    "sns.set_style(\"whitegrid\")\n",
    "plt.style.use(\"fivethirtyeight\")\n",
    "set_config(display='diagram')"
   ]
  },
  {
   "cell_type": "code",
   "execution_count": 3,
   "metadata": {},
   "outputs": [],
   "source": [
    "house_prince = pd.read_csv('house_prices_cleaned_train_data.csv')"
   ]
  },
  {
   "cell_type": "code",
   "execution_count": 4,
   "metadata": {},
   "outputs": [],
   "source": [
    "#house_prince.head()"
   ]
  },
  {
   "cell_type": "code",
   "execution_count": 5,
   "metadata": {},
   "outputs": [],
   "source": [
    "#house_prince.info()"
   ]
  },
  {
   "cell_type": "code",
   "execution_count": 6,
   "metadata": {},
   "outputs": [],
   "source": [
    "#numericdf =house_prince.select_dtypes(include='number')\n",
    "#numericdf.head()"
   ]
  },
  {
   "cell_type": "code",
   "execution_count": 7,
   "metadata": {},
   "outputs": [],
   "source": [
    "#numericdf.keys()"
   ]
  },
  {
   "cell_type": "code",
   "execution_count": 8,
   "metadata": {},
   "outputs": [],
   "source": [
    "#categoricaldf =house_prince.select_dtypes(include='object')\n",
    "#categoricaldf.head()"
   ]
  },
  {
   "cell_type": "code",
   "execution_count": 9,
   "metadata": {},
   "outputs": [],
   "source": [
    "#categoricaldf.keys()"
   ]
  },
  {
   "cell_type": "code",
   "execution_count": 10,
   "metadata": {},
   "outputs": [],
   "source": [
    "X = house_prince[['OverallQual', 'GrLivArea', 'GarageArea', 'TotalBsmtSF','1stFlrSF', 'FullBath', 'TotRmsAbvGrd', 'YearBuilt', 'YearRemodAdd', 'MasVnrArea', 'Fireplaces', 'GarageYrBlt',\n",
    "                  'MSZoning', 'Street', 'LotShape','LandContour','LotConfig', 'LandSlope', 'HouseStyle', 'MasVnrType', 'ExterQual','ExterCond', 'BsmtQual', 'Heating', 'HeatingQC', 'CentralAir','Electrical', 'KitchenQual', 'FireplaceQu', 'GarageType','GarageFinish', 'GarageQual','GarageCond','SaleType', 'SaleCondition']]\n",
    "y = pd.DataFrame(house_prince['SalePrice'])"
   ]
  },
  {
   "cell_type": "code",
   "execution_count": 11,
   "metadata": {},
   "outputs": [],
   "source": [
    "# X"
   ]
  },
  {
   "cell_type": "code",
   "execution_count": 12,
   "metadata": {},
   "outputs": [],
   "source": [
    "y.to_csv('target.csv')"
   ]
  },
  {
   "cell_type": "code",
   "execution_count": 13,
   "metadata": {},
   "outputs": [],
   "source": [
    "numeric_features = ['OverallQual', 'GrLivArea', 'GarageArea', 'TotalBsmtSF','1stFlrSF', 'FullBath', 'TotRmsAbvGrd', 'YearBuilt', 'YearRemodAdd', 'MasVnrArea', 'Fireplaces', 'GarageYrBlt']"
   ]
  },
  {
   "cell_type": "code",
   "execution_count": 14,
   "metadata": {},
   "outputs": [],
   "source": [
    "# for col in numeric_features:\n",
    "#     print(house_prince[col].value_counts())\n",
    "#     print('\\n-----------------------------------------\\n')"
   ]
  },
  {
   "cell_type": "code",
   "execution_count": 15,
   "metadata": {},
   "outputs": [],
   "source": [
    "numeric_features_ = ['OverallQual', 'GrLivArea', 'GarageArea', 'TotalBsmtSF']"
   ]
  },
  {
   "cell_type": "code",
   "execution_count": 16,
   "metadata": {},
   "outputs": [
    {
     "data": {
      "text/html": [
       "<style>div.sk-top-container {color: black;background-color: white;}div.sk-toggleable {background-color: white;}label.sk-toggleable__label {cursor: pointer;display: block;width: 100%;margin-bottom: 0;padding: 0.2em 0.3em;box-sizing: border-box;text-align: center;}div.sk-toggleable__content {max-height: 0;max-width: 0;overflow: hidden;text-align: left;background-color: #f0f8ff;}div.sk-toggleable__content pre {margin: 0.2em;color: black;border-radius: 0.25em;background-color: #f0f8ff;}input.sk-toggleable__control:checked~div.sk-toggleable__content {max-height: 200px;max-width: 100%;overflow: auto;}div.sk-estimator input.sk-toggleable__control:checked~label.sk-toggleable__label {background-color: #d4ebff;}div.sk-label input.sk-toggleable__control:checked~label.sk-toggleable__label {background-color: #d4ebff;}input.sk-hidden--visually {border: 0;clip: rect(1px 1px 1px 1px);clip: rect(1px, 1px, 1px, 1px);height: 1px;margin: -1px;overflow: hidden;padding: 0;position: absolute;width: 1px;}div.sk-estimator {font-family: monospace;background-color: #f0f8ff;margin: 0.25em 0.25em;border: 1px dotted black;border-radius: 0.25em;box-sizing: border-box;}div.sk-estimator:hover {background-color: #d4ebff;}div.sk-parallel-item::after {content: \"\";width: 100%;border-bottom: 1px solid gray;flex-grow: 1;}div.sk-label:hover label.sk-toggleable__label {background-color: #d4ebff;}div.sk-serial::before {content: \"\";position: absolute;border-left: 1px solid gray;box-sizing: border-box;top: 2em;bottom: 0;left: 50%;}div.sk-serial {display: flex;flex-direction: column;align-items: center;background-color: white;}div.sk-item {z-index: 1;}div.sk-parallel {display: flex;align-items: stretch;justify-content: center;background-color: white;}div.sk-parallel-item {display: flex;flex-direction: column;position: relative;background-color: white;}div.sk-parallel-item:first-child::after {align-self: flex-end;width: 50%;}div.sk-parallel-item:last-child::after {align-self: flex-start;width: 50%;}div.sk-parallel-item:only-child::after {width: 0;}div.sk-dashed-wrapped {border: 1px dashed gray;margin: 0.2em;box-sizing: border-box;padding-bottom: 0.1em;background-color: white;position: relative;}div.sk-label label {font-family: monospace;font-weight: bold;background-color: white;display: inline-block;line-height: 1.2em;}div.sk-label-container {position: relative;z-index: 2;text-align: center;}div.sk-container {display: inline-block;position: relative;}</style><div class=\"sk-top-container\"><div class=\"sk-container\"><div class=\"sk-item sk-dashed-wrapped\"><div class=\"sk-label-container\"><div class=\"sk-label sk-toggleable\"><input class=\"sk-toggleable__control sk-hidden--visually\" id=\"5525c59b-b419-45de-97c9-a5bd2b99c5e2\" type=\"checkbox\" ><label class=\"sk-toggleable__label\" for=\"5525c59b-b419-45de-97c9-a5bd2b99c5e2\">Pipeline</label><div class=\"sk-toggleable__content\"><pre>Pipeline(steps=[('scale', StandardScaler())])</pre></div></div></div><div class=\"sk-serial\"><div class=\"sk-item\"><div class=\"sk-estimator sk-toggleable\"><input class=\"sk-toggleable__control sk-hidden--visually\" id=\"0d70a209-7a73-4dd6-9b09-9635dc9cade0\" type=\"checkbox\" ><label class=\"sk-toggleable__label\" for=\"0d70a209-7a73-4dd6-9b09-9635dc9cade0\">StandardScaler</label><div class=\"sk-toggleable__content\"><pre>StandardScaler()</pre></div></div></div></div></div></div></div>"
      ],
      "text/plain": [
       "Pipeline(steps=[('scale', StandardScaler())])"
      ]
     },
     "execution_count": 16,
     "metadata": {},
     "output_type": "execute_result"
    }
   ],
   "source": [
    "numeric_transformer = Pipeline([\n",
    "    #('impute', SimpleImputer(strategy='mean')),\n",
    "    ('scale', StandardScaler())\n",
    "])\n",
    "numeric_transformer"
   ]
  },
  {
   "cell_type": "code",
   "execution_count": 17,
   "metadata": {},
   "outputs": [],
   "source": [
    "categorical_features = ['MSZoning', \n",
    "                        'Street', 'LotShape',\n",
    "                        'LandContour','LotConfig', 'LandSlope',\n",
    "                        'HouseStyle', 'MasVnrType', 'ExterQual',\n",
    "                        'ExterCond', 'BsmtQual', 'Heating',\n",
    "                        'HeatingQC', 'CentralAir','Electrical',\n",
    "                        'KitchenQual', 'FireplaceQu', 'GarageType',\n",
    "                        'GarageFinish', 'GarageQual','GarageCond',\n",
    "                        'SaleType', 'SaleCondition'\n",
    "                       ]"
   ]
  },
  {
   "cell_type": "code",
   "execution_count": 18,
   "metadata": {},
   "outputs": [],
   "source": [
    "# for col in categorical_features:\n",
    "#     print(house_prince[col].value_counts())\n",
    "#     print('\\n-----------------------------------------\\n')"
   ]
  },
  {
   "cell_type": "code",
   "execution_count": 19,
   "metadata": {},
   "outputs": [],
   "source": [
    "categorical_features_ = [ 'MSZoning', \n",
    "                         'LandSlope', \n",
    "                         'HouseStyle', \n",
    "                         'MasVnrType', \n",
    "                         'ExterQual', \n",
    "                         'BsmtQual', \n",
    "                         'KitchenQual', \n",
    "                         'GarageFinish', \n",
    "                         'GarageType', \n",
    "                         'SaleType', \n",
    "                         'SaleCondition']"
   ]
  },
  {
   "cell_type": "code",
   "execution_count": 20,
   "metadata": {},
   "outputs": [],
   "source": [
    "categorical_features_2 = [#'LandSlope', \n",
    "                         #'HouseStyle', \n",
    "                         'MasVnrType', \n",
    "                         #'ExterQual', \n",
    "                         'BsmtQual', \n",
    "                         #'KitchenQual', \n",
    "                         'GarageFinish', \n",
    "                         'SaleCondition']  \n",
    "                         "
   ]
  },
  {
   "cell_type": "code",
   "execution_count": 21,
   "metadata": {},
   "outputs": [],
   "source": [
    "Target = [ 'SalePrice']"
   ]
  },
  {
   "cell_type": "code",
   "execution_count": 22,
   "metadata": {},
   "outputs": [],
   "source": [
    "X_more_fts = pd.DataFrame(house_prince[['OverallQual', 'GrLivArea', 'GarageArea', 'TotalBsmtSF','1stFlrSF', 'FullBath', 'TotRmsAbvGrd', 'YearBuilt', 'YearRemodAdd', 'MasVnrArea', 'Fireplaces', 'GarageYrBlt',\n",
    "                           'MSZoning', 'LandSlope', 'HouseStyle', 'MasVnrType', 'ExterQual', 'BsmtQual', 'KitchenQual', 'GarageFinish', 'GarageType', 'SaleType', 'SaleCondition']])"
   ]
  },
  {
   "cell_type": "code",
   "execution_count": 23,
   "metadata": {
    "scrolled": true
   },
   "outputs": [
    {
     "data": {
      "text/html": [
       "<div>\n",
       "<style scoped>\n",
       "    .dataframe tbody tr th:only-of-type {\n",
       "        vertical-align: middle;\n",
       "    }\n",
       "\n",
       "    .dataframe tbody tr th {\n",
       "        vertical-align: top;\n",
       "    }\n",
       "\n",
       "    .dataframe thead th {\n",
       "        text-align: right;\n",
       "    }\n",
       "</style>\n",
       "<table border=\"1\" class=\"dataframe\">\n",
       "  <thead>\n",
       "    <tr style=\"text-align: right;\">\n",
       "      <th></th>\n",
       "      <th>OverallQual</th>\n",
       "      <th>GrLivArea</th>\n",
       "      <th>GarageArea</th>\n",
       "      <th>TotalBsmtSF</th>\n",
       "      <th>1stFlrSF</th>\n",
       "      <th>FullBath</th>\n",
       "      <th>TotRmsAbvGrd</th>\n",
       "      <th>YearBuilt</th>\n",
       "      <th>YearRemodAdd</th>\n",
       "      <th>MasVnrArea</th>\n",
       "      <th>...</th>\n",
       "      <th>LandSlope</th>\n",
       "      <th>HouseStyle</th>\n",
       "      <th>MasVnrType</th>\n",
       "      <th>ExterQual</th>\n",
       "      <th>BsmtQual</th>\n",
       "      <th>KitchenQual</th>\n",
       "      <th>GarageFinish</th>\n",
       "      <th>GarageType</th>\n",
       "      <th>SaleType</th>\n",
       "      <th>SaleCondition</th>\n",
       "    </tr>\n",
       "  </thead>\n",
       "  <tbody>\n",
       "    <tr>\n",
       "      <th>0</th>\n",
       "      <td>7</td>\n",
       "      <td>1710</td>\n",
       "      <td>548</td>\n",
       "      <td>856</td>\n",
       "      <td>856</td>\n",
       "      <td>2</td>\n",
       "      <td>8</td>\n",
       "      <td>2003</td>\n",
       "      <td>2003</td>\n",
       "      <td>196.0</td>\n",
       "      <td>...</td>\n",
       "      <td>Gtl</td>\n",
       "      <td>2Story</td>\n",
       "      <td>BrkFace</td>\n",
       "      <td>Gd</td>\n",
       "      <td>Gd</td>\n",
       "      <td>Gd</td>\n",
       "      <td>RFn</td>\n",
       "      <td>Attchd</td>\n",
       "      <td>WD</td>\n",
       "      <td>Normal</td>\n",
       "    </tr>\n",
       "    <tr>\n",
       "      <th>1</th>\n",
       "      <td>6</td>\n",
       "      <td>1262</td>\n",
       "      <td>460</td>\n",
       "      <td>1262</td>\n",
       "      <td>1262</td>\n",
       "      <td>2</td>\n",
       "      <td>6</td>\n",
       "      <td>1976</td>\n",
       "      <td>1976</td>\n",
       "      <td>0.0</td>\n",
       "      <td>...</td>\n",
       "      <td>Gtl</td>\n",
       "      <td>1Story</td>\n",
       "      <td>None</td>\n",
       "      <td>TA</td>\n",
       "      <td>Gd</td>\n",
       "      <td>TA</td>\n",
       "      <td>RFn</td>\n",
       "      <td>Attchd</td>\n",
       "      <td>WD</td>\n",
       "      <td>Normal</td>\n",
       "    </tr>\n",
       "    <tr>\n",
       "      <th>2</th>\n",
       "      <td>7</td>\n",
       "      <td>1786</td>\n",
       "      <td>608</td>\n",
       "      <td>920</td>\n",
       "      <td>920</td>\n",
       "      <td>2</td>\n",
       "      <td>6</td>\n",
       "      <td>2001</td>\n",
       "      <td>2002</td>\n",
       "      <td>162.0</td>\n",
       "      <td>...</td>\n",
       "      <td>Gtl</td>\n",
       "      <td>2Story</td>\n",
       "      <td>BrkFace</td>\n",
       "      <td>Gd</td>\n",
       "      <td>Gd</td>\n",
       "      <td>Gd</td>\n",
       "      <td>RFn</td>\n",
       "      <td>Attchd</td>\n",
       "      <td>WD</td>\n",
       "      <td>Normal</td>\n",
       "    </tr>\n",
       "    <tr>\n",
       "      <th>3</th>\n",
       "      <td>7</td>\n",
       "      <td>1717</td>\n",
       "      <td>642</td>\n",
       "      <td>756</td>\n",
       "      <td>961</td>\n",
       "      <td>1</td>\n",
       "      <td>7</td>\n",
       "      <td>1915</td>\n",
       "      <td>1970</td>\n",
       "      <td>0.0</td>\n",
       "      <td>...</td>\n",
       "      <td>Gtl</td>\n",
       "      <td>2Story</td>\n",
       "      <td>None</td>\n",
       "      <td>TA</td>\n",
       "      <td>TA</td>\n",
       "      <td>Gd</td>\n",
       "      <td>Unf</td>\n",
       "      <td>Detchd</td>\n",
       "      <td>WD</td>\n",
       "      <td>Abnorml</td>\n",
       "    </tr>\n",
       "    <tr>\n",
       "      <th>4</th>\n",
       "      <td>8</td>\n",
       "      <td>2198</td>\n",
       "      <td>836</td>\n",
       "      <td>1145</td>\n",
       "      <td>1145</td>\n",
       "      <td>2</td>\n",
       "      <td>9</td>\n",
       "      <td>2000</td>\n",
       "      <td>2000</td>\n",
       "      <td>350.0</td>\n",
       "      <td>...</td>\n",
       "      <td>Gtl</td>\n",
       "      <td>2Story</td>\n",
       "      <td>BrkFace</td>\n",
       "      <td>Gd</td>\n",
       "      <td>Gd</td>\n",
       "      <td>Gd</td>\n",
       "      <td>RFn</td>\n",
       "      <td>Attchd</td>\n",
       "      <td>WD</td>\n",
       "      <td>Normal</td>\n",
       "    </tr>\n",
       "  </tbody>\n",
       "</table>\n",
       "<p>5 rows × 23 columns</p>\n",
       "</div>"
      ],
      "text/plain": [
       "   OverallQual  GrLivArea  GarageArea  TotalBsmtSF  1stFlrSF  FullBath  \\\n",
       "0            7       1710         548          856       856         2   \n",
       "1            6       1262         460         1262      1262         2   \n",
       "2            7       1786         608          920       920         2   \n",
       "3            7       1717         642          756       961         1   \n",
       "4            8       2198         836         1145      1145         2   \n",
       "\n",
       "   TotRmsAbvGrd  YearBuilt  YearRemodAdd  MasVnrArea  ...  LandSlope  \\\n",
       "0             8       2003          2003       196.0  ...        Gtl   \n",
       "1             6       1976          1976         0.0  ...        Gtl   \n",
       "2             6       2001          2002       162.0  ...        Gtl   \n",
       "3             7       1915          1970         0.0  ...        Gtl   \n",
       "4             9       2000          2000       350.0  ...        Gtl   \n",
       "\n",
       "   HouseStyle MasVnrType ExterQual BsmtQual KitchenQual GarageFinish  \\\n",
       "0      2Story    BrkFace        Gd       Gd          Gd          RFn   \n",
       "1      1Story       None        TA       Gd          TA          RFn   \n",
       "2      2Story    BrkFace        Gd       Gd          Gd          RFn   \n",
       "3      2Story       None        TA       TA          Gd          Unf   \n",
       "4      2Story    BrkFace        Gd       Gd          Gd          RFn   \n",
       "\n",
       "  GarageType SaleType SaleCondition  \n",
       "0     Attchd       WD        Normal  \n",
       "1     Attchd       WD        Normal  \n",
       "2     Attchd       WD        Normal  \n",
       "3     Detchd       WD       Abnorml  \n",
       "4     Attchd       WD        Normal  \n",
       "\n",
       "[5 rows x 23 columns]"
      ]
     },
     "execution_count": 23,
     "metadata": {},
     "output_type": "execute_result"
    }
   ],
   "source": [
    "X_more_fts.head()"
   ]
  },
  {
   "cell_type": "code",
   "execution_count": 24,
   "metadata": {},
   "outputs": [],
   "source": [
    "X_fts = pd.DataFrame(house_prince[['OverallQual', 'GrLivArea', 'GarageArea', 'TotalBsmtSF',\n",
    "                                   #'LandSlope',\n",
    "                                   #'HouseStyle',\n",
    "                                   'MasVnrType',\n",
    "                                   #'ExterQual',\n",
    "                                   'BsmtQual',\n",
    "                                   #'KitchenQual',\n",
    "                                   'GarageFinish',\n",
    "                                   'SaleCondition']])\n",
    "X_fts.to_csv(\"X_fts_train.csv\")"
   ]
  },
  {
   "cell_type": "code",
   "execution_count": 25,
   "metadata": {},
   "outputs": [
    {
     "data": {
      "text/html": [
       "<style>div.sk-top-container {color: black;background-color: white;}div.sk-toggleable {background-color: white;}label.sk-toggleable__label {cursor: pointer;display: block;width: 100%;margin-bottom: 0;padding: 0.2em 0.3em;box-sizing: border-box;text-align: center;}div.sk-toggleable__content {max-height: 0;max-width: 0;overflow: hidden;text-align: left;background-color: #f0f8ff;}div.sk-toggleable__content pre {margin: 0.2em;color: black;border-radius: 0.25em;background-color: #f0f8ff;}input.sk-toggleable__control:checked~div.sk-toggleable__content {max-height: 200px;max-width: 100%;overflow: auto;}div.sk-estimator input.sk-toggleable__control:checked~label.sk-toggleable__label {background-color: #d4ebff;}div.sk-label input.sk-toggleable__control:checked~label.sk-toggleable__label {background-color: #d4ebff;}input.sk-hidden--visually {border: 0;clip: rect(1px 1px 1px 1px);clip: rect(1px, 1px, 1px, 1px);height: 1px;margin: -1px;overflow: hidden;padding: 0;position: absolute;width: 1px;}div.sk-estimator {font-family: monospace;background-color: #f0f8ff;margin: 0.25em 0.25em;border: 1px dotted black;border-radius: 0.25em;box-sizing: border-box;}div.sk-estimator:hover {background-color: #d4ebff;}div.sk-parallel-item::after {content: \"\";width: 100%;border-bottom: 1px solid gray;flex-grow: 1;}div.sk-label:hover label.sk-toggleable__label {background-color: #d4ebff;}div.sk-serial::before {content: \"\";position: absolute;border-left: 1px solid gray;box-sizing: border-box;top: 2em;bottom: 0;left: 50%;}div.sk-serial {display: flex;flex-direction: column;align-items: center;background-color: white;}div.sk-item {z-index: 1;}div.sk-parallel {display: flex;align-items: stretch;justify-content: center;background-color: white;}div.sk-parallel-item {display: flex;flex-direction: column;position: relative;background-color: white;}div.sk-parallel-item:first-child::after {align-self: flex-end;width: 50%;}div.sk-parallel-item:last-child::after {align-self: flex-start;width: 50%;}div.sk-parallel-item:only-child::after {width: 0;}div.sk-dashed-wrapped {border: 1px dashed gray;margin: 0.2em;box-sizing: border-box;padding-bottom: 0.1em;background-color: white;position: relative;}div.sk-label label {font-family: monospace;font-weight: bold;background-color: white;display: inline-block;line-height: 1.2em;}div.sk-label-container {position: relative;z-index: 2;text-align: center;}div.sk-container {display: inline-block;position: relative;}</style><div class=\"sk-top-container\"><div class=\"sk-container\"><div class=\"sk-item sk-dashed-wrapped\"><div class=\"sk-label-container\"><div class=\"sk-label sk-toggleable\"><input class=\"sk-toggleable__control sk-hidden--visually\" id=\"a256a4cd-d3e2-40e3-bd33-b7564340a32d\" type=\"checkbox\" ><label class=\"sk-toggleable__label\" for=\"a256a4cd-d3e2-40e3-bd33-b7564340a32d\">Pipeline</label><div class=\"sk-toggleable__content\"><pre>Pipeline(steps=[('onehot', OneHotEncoder(handle_unknown='ignore'))])</pre></div></div></div><div class=\"sk-serial\"><div class=\"sk-item\"><div class=\"sk-estimator sk-toggleable\"><input class=\"sk-toggleable__control sk-hidden--visually\" id=\"4b3909e5-a1ce-49b8-98c3-dfcca6b0ba4f\" type=\"checkbox\" ><label class=\"sk-toggleable__label\" for=\"4b3909e5-a1ce-49b8-98c3-dfcca6b0ba4f\">OneHotEncoder</label><div class=\"sk-toggleable__content\"><pre>OneHotEncoder(handle_unknown='ignore')</pre></div></div></div></div></div></div></div>"
      ],
      "text/plain": [
       "Pipeline(steps=[('onehot', OneHotEncoder(handle_unknown='ignore'))])"
      ]
     },
     "execution_count": 25,
     "metadata": {},
     "output_type": "execute_result"
    }
   ],
   "source": [
    "categorical_transformer = Pipeline([\n",
    "    #('impute', SimpleImputer(strategy='most_frequent')),\n",
    "    ('onehot', OneHotEncoder(handle_unknown='ignore'))\n",
    "])\n",
    "categorical_transformer"
   ]
  },
  {
   "cell_type": "code",
   "execution_count": 26,
   "metadata": {},
   "outputs": [
    {
     "data": {
      "text/html": [
       "<style>div.sk-top-container {color: black;background-color: white;}div.sk-toggleable {background-color: white;}label.sk-toggleable__label {cursor: pointer;display: block;width: 100%;margin-bottom: 0;padding: 0.2em 0.3em;box-sizing: border-box;text-align: center;}div.sk-toggleable__content {max-height: 0;max-width: 0;overflow: hidden;text-align: left;background-color: #f0f8ff;}div.sk-toggleable__content pre {margin: 0.2em;color: black;border-radius: 0.25em;background-color: #f0f8ff;}input.sk-toggleable__control:checked~div.sk-toggleable__content {max-height: 200px;max-width: 100%;overflow: auto;}div.sk-estimator input.sk-toggleable__control:checked~label.sk-toggleable__label {background-color: #d4ebff;}div.sk-label input.sk-toggleable__control:checked~label.sk-toggleable__label {background-color: #d4ebff;}input.sk-hidden--visually {border: 0;clip: rect(1px 1px 1px 1px);clip: rect(1px, 1px, 1px, 1px);height: 1px;margin: -1px;overflow: hidden;padding: 0;position: absolute;width: 1px;}div.sk-estimator {font-family: monospace;background-color: #f0f8ff;margin: 0.25em 0.25em;border: 1px dotted black;border-radius: 0.25em;box-sizing: border-box;}div.sk-estimator:hover {background-color: #d4ebff;}div.sk-parallel-item::after {content: \"\";width: 100%;border-bottom: 1px solid gray;flex-grow: 1;}div.sk-label:hover label.sk-toggleable__label {background-color: #d4ebff;}div.sk-serial::before {content: \"\";position: absolute;border-left: 1px solid gray;box-sizing: border-box;top: 2em;bottom: 0;left: 50%;}div.sk-serial {display: flex;flex-direction: column;align-items: center;background-color: white;}div.sk-item {z-index: 1;}div.sk-parallel {display: flex;align-items: stretch;justify-content: center;background-color: white;}div.sk-parallel-item {display: flex;flex-direction: column;position: relative;background-color: white;}div.sk-parallel-item:first-child::after {align-self: flex-end;width: 50%;}div.sk-parallel-item:last-child::after {align-self: flex-start;width: 50%;}div.sk-parallel-item:only-child::after {width: 0;}div.sk-dashed-wrapped {border: 1px dashed gray;margin: 0.2em;box-sizing: border-box;padding-bottom: 0.1em;background-color: white;position: relative;}div.sk-label label {font-family: monospace;font-weight: bold;background-color: white;display: inline-block;line-height: 1.2em;}div.sk-label-container {position: relative;z-index: 2;text-align: center;}div.sk-container {display: inline-block;position: relative;}</style><div class=\"sk-top-container\"><div class=\"sk-container\"><div class=\"sk-item sk-dashed-wrapped\"><div class=\"sk-label-container\"><div class=\"sk-label sk-toggleable\"><input class=\"sk-toggleable__control sk-hidden--visually\" id=\"786144b4-44a0-4167-bb74-bc09768a4cfa\" type=\"checkbox\" ><label class=\"sk-toggleable__label\" for=\"786144b4-44a0-4167-bb74-bc09768a4cfa\">ColumnTransformer</label><div class=\"sk-toggleable__content\"><pre>ColumnTransformer(transformers=[('numeric_features',\n",
       "                                 Pipeline(steps=[('scale', StandardScaler())]),\n",
       "                                 ['OverallQual', 'GrLivArea', 'GarageArea',\n",
       "                                  'TotalBsmtSF']),\n",
       "                                ('categorical_features',\n",
       "                                 Pipeline(steps=[('onehot',\n",
       "                                                  OneHotEncoder(handle_unknown='ignore'))]),\n",
       "                                 ['MasVnrType', 'BsmtQual', 'GarageFinish',\n",
       "                                  'SaleCondition'])])</pre></div></div></div><div class=\"sk-parallel\"><div class=\"sk-parallel-item\"><div class=\"sk-item\"><div class=\"sk-label-container\"><div class=\"sk-label sk-toggleable\"><input class=\"sk-toggleable__control sk-hidden--visually\" id=\"df288cea-4b0d-46c6-b8ed-716588262723\" type=\"checkbox\" ><label class=\"sk-toggleable__label\" for=\"df288cea-4b0d-46c6-b8ed-716588262723\">numeric_features</label><div class=\"sk-toggleable__content\"><pre>['OverallQual', 'GrLivArea', 'GarageArea', 'TotalBsmtSF']</pre></div></div></div><div class=\"sk-serial\"><div class=\"sk-item\"><div class=\"sk-serial\"><div class=\"sk-item\"><div class=\"sk-estimator sk-toggleable\"><input class=\"sk-toggleable__control sk-hidden--visually\" id=\"f9f8c8f0-fe39-45df-9436-ea3d26de6356\" type=\"checkbox\" ><label class=\"sk-toggleable__label\" for=\"f9f8c8f0-fe39-45df-9436-ea3d26de6356\">StandardScaler</label><div class=\"sk-toggleable__content\"><pre>StandardScaler()</pre></div></div></div></div></div></div></div></div><div class=\"sk-parallel-item\"><div class=\"sk-item\"><div class=\"sk-label-container\"><div class=\"sk-label sk-toggleable\"><input class=\"sk-toggleable__control sk-hidden--visually\" id=\"b6699db2-cfe2-4f23-8c4c-69cd72407a73\" type=\"checkbox\" ><label class=\"sk-toggleable__label\" for=\"b6699db2-cfe2-4f23-8c4c-69cd72407a73\">categorical_features</label><div class=\"sk-toggleable__content\"><pre>['MasVnrType', 'BsmtQual', 'GarageFinish', 'SaleCondition']</pre></div></div></div><div class=\"sk-serial\"><div class=\"sk-item\"><div class=\"sk-serial\"><div class=\"sk-item\"><div class=\"sk-estimator sk-toggleable\"><input class=\"sk-toggleable__control sk-hidden--visually\" id=\"99140368-10cb-48ae-9fcc-e7d2dcc34072\" type=\"checkbox\" ><label class=\"sk-toggleable__label\" for=\"99140368-10cb-48ae-9fcc-e7d2dcc34072\">OneHotEncoder</label><div class=\"sk-toggleable__content\"><pre>OneHotEncoder(handle_unknown='ignore')</pre></div></div></div></div></div></div></div></div></div></div></div></div>"
      ],
      "text/plain": [
       "ColumnTransformer(transformers=[('numeric_features',\n",
       "                                 Pipeline(steps=[('scale', StandardScaler())]),\n",
       "                                 ['OverallQual', 'GrLivArea', 'GarageArea',\n",
       "                                  'TotalBsmtSF']),\n",
       "                                ('categorical_features',\n",
       "                                 Pipeline(steps=[('onehot',\n",
       "                                                  OneHotEncoder(handle_unknown='ignore'))]),\n",
       "                                 ['MasVnrType', 'BsmtQual', 'GarageFinish',\n",
       "                                  'SaleCondition'])])"
      ]
     },
     "execution_count": 26,
     "metadata": {},
     "output_type": "execute_result"
    }
   ],
   "source": [
    "preprocess_pipeline = ColumnTransformer([\n",
    "    ('numeric_features', numeric_transformer, numeric_features_),\n",
    "    ('categorical_features', categorical_transformer, categorical_features_2),\n",
    "    ])\n",
    "preprocess_pipeline"
   ]
  },
  {
   "cell_type": "code",
   "execution_count": 27,
   "metadata": {},
   "outputs": [
    {
     "data": {
      "text/html": [
       "<style>div.sk-top-container {color: black;background-color: white;}div.sk-toggleable {background-color: white;}label.sk-toggleable__label {cursor: pointer;display: block;width: 100%;margin-bottom: 0;padding: 0.2em 0.3em;box-sizing: border-box;text-align: center;}div.sk-toggleable__content {max-height: 0;max-width: 0;overflow: hidden;text-align: left;background-color: #f0f8ff;}div.sk-toggleable__content pre {margin: 0.2em;color: black;border-radius: 0.25em;background-color: #f0f8ff;}input.sk-toggleable__control:checked~div.sk-toggleable__content {max-height: 200px;max-width: 100%;overflow: auto;}div.sk-estimator input.sk-toggleable__control:checked~label.sk-toggleable__label {background-color: #d4ebff;}div.sk-label input.sk-toggleable__control:checked~label.sk-toggleable__label {background-color: #d4ebff;}input.sk-hidden--visually {border: 0;clip: rect(1px 1px 1px 1px);clip: rect(1px, 1px, 1px, 1px);height: 1px;margin: -1px;overflow: hidden;padding: 0;position: absolute;width: 1px;}div.sk-estimator {font-family: monospace;background-color: #f0f8ff;margin: 0.25em 0.25em;border: 1px dotted black;border-radius: 0.25em;box-sizing: border-box;}div.sk-estimator:hover {background-color: #d4ebff;}div.sk-parallel-item::after {content: \"\";width: 100%;border-bottom: 1px solid gray;flex-grow: 1;}div.sk-label:hover label.sk-toggleable__label {background-color: #d4ebff;}div.sk-serial::before {content: \"\";position: absolute;border-left: 1px solid gray;box-sizing: border-box;top: 2em;bottom: 0;left: 50%;}div.sk-serial {display: flex;flex-direction: column;align-items: center;background-color: white;}div.sk-item {z-index: 1;}div.sk-parallel {display: flex;align-items: stretch;justify-content: center;background-color: white;}div.sk-parallel-item {display: flex;flex-direction: column;position: relative;background-color: white;}div.sk-parallel-item:first-child::after {align-self: flex-end;width: 50%;}div.sk-parallel-item:last-child::after {align-self: flex-start;width: 50%;}div.sk-parallel-item:only-child::after {width: 0;}div.sk-dashed-wrapped {border: 1px dashed gray;margin: 0.2em;box-sizing: border-box;padding-bottom: 0.1em;background-color: white;position: relative;}div.sk-label label {font-family: monospace;font-weight: bold;background-color: white;display: inline-block;line-height: 1.2em;}div.sk-label-container {position: relative;z-index: 2;text-align: center;}div.sk-container {display: inline-block;position: relative;}</style><div class=\"sk-top-container\"><div class=\"sk-container\"><div class=\"sk-item sk-dashed-wrapped\"><div class=\"sk-label-container\"><div class=\"sk-label sk-toggleable\"><input class=\"sk-toggleable__control sk-hidden--visually\" id=\"3abbff9e-28d4-4698-9406-d4e0b9e5e5da\" type=\"checkbox\" ><label class=\"sk-toggleable__label\" for=\"3abbff9e-28d4-4698-9406-d4e0b9e5e5da\">ColumnTransformer</label><div class=\"sk-toggleable__content\"><pre>ColumnTransformer(transformers=[('numeric_features',\n",
       "                                 Pipeline(steps=[('scale', StandardScaler())]),\n",
       "                                 ['OverallQual', 'GrLivArea', 'GarageArea',\n",
       "                                  'TotalBsmtSF', '1stFlrSF', 'FullBath',\n",
       "                                  'TotRmsAbvGrd', 'YearBuilt', 'YearRemodAdd',\n",
       "                                  'MasVnrArea', 'Fireplaces', 'GarageYrBlt']),\n",
       "                                ('categorical_features',\n",
       "                                 Pipeline(steps=[('onehot',\n",
       "                                                  OneHotEncoder(handle_unknown='ignore'))]),\n",
       "                                 ['MSZoning', 'LandSlope', 'HouseStyle',\n",
       "                                  'MasVnrType', 'ExterQual', 'BsmtQual',\n",
       "                                  'KitchenQual', 'GarageFinish', 'GarageType',\n",
       "                                  'SaleType', 'SaleCondition']),\n",
       "                                ('target',\n",
       "                                 Pipeline(steps=[('scale', StandardScaler())]),\n",
       "                                 ['SalePrice'])])</pre></div></div></div><div class=\"sk-parallel\"><div class=\"sk-parallel-item\"><div class=\"sk-item\"><div class=\"sk-label-container\"><div class=\"sk-label sk-toggleable\"><input class=\"sk-toggleable__control sk-hidden--visually\" id=\"17ac7c14-1b86-426c-8c9b-61b34c878ed8\" type=\"checkbox\" ><label class=\"sk-toggleable__label\" for=\"17ac7c14-1b86-426c-8c9b-61b34c878ed8\">numeric_features</label><div class=\"sk-toggleable__content\"><pre>['OverallQual', 'GrLivArea', 'GarageArea', 'TotalBsmtSF', '1stFlrSF', 'FullBath', 'TotRmsAbvGrd', 'YearBuilt', 'YearRemodAdd', 'MasVnrArea', 'Fireplaces', 'GarageYrBlt']</pre></div></div></div><div class=\"sk-serial\"><div class=\"sk-item\"><div class=\"sk-serial\"><div class=\"sk-item\"><div class=\"sk-estimator sk-toggleable\"><input class=\"sk-toggleable__control sk-hidden--visually\" id=\"05c82789-4042-43af-919d-9ebb126f13e0\" type=\"checkbox\" ><label class=\"sk-toggleable__label\" for=\"05c82789-4042-43af-919d-9ebb126f13e0\">StandardScaler</label><div class=\"sk-toggleable__content\"><pre>StandardScaler()</pre></div></div></div></div></div></div></div></div><div class=\"sk-parallel-item\"><div class=\"sk-item\"><div class=\"sk-label-container\"><div class=\"sk-label sk-toggleable\"><input class=\"sk-toggleable__control sk-hidden--visually\" id=\"a85b60e4-732d-4d0e-830c-1605a4c77bfe\" type=\"checkbox\" ><label class=\"sk-toggleable__label\" for=\"a85b60e4-732d-4d0e-830c-1605a4c77bfe\">categorical_features</label><div class=\"sk-toggleable__content\"><pre>['MSZoning', 'LandSlope', 'HouseStyle', 'MasVnrType', 'ExterQual', 'BsmtQual', 'KitchenQual', 'GarageFinish', 'GarageType', 'SaleType', 'SaleCondition']</pre></div></div></div><div class=\"sk-serial\"><div class=\"sk-item\"><div class=\"sk-serial\"><div class=\"sk-item\"><div class=\"sk-estimator sk-toggleable\"><input class=\"sk-toggleable__control sk-hidden--visually\" id=\"0e8fd70c-a5b1-498d-9c0e-710196a1c396\" type=\"checkbox\" ><label class=\"sk-toggleable__label\" for=\"0e8fd70c-a5b1-498d-9c0e-710196a1c396\">OneHotEncoder</label><div class=\"sk-toggleable__content\"><pre>OneHotEncoder(handle_unknown='ignore')</pre></div></div></div></div></div></div></div></div><div class=\"sk-parallel-item\"><div class=\"sk-item\"><div class=\"sk-label-container\"><div class=\"sk-label sk-toggleable\"><input class=\"sk-toggleable__control sk-hidden--visually\" id=\"49a72cc5-dec9-48fc-a44c-17de2d754389\" type=\"checkbox\" ><label class=\"sk-toggleable__label\" for=\"49a72cc5-dec9-48fc-a44c-17de2d754389\">target</label><div class=\"sk-toggleable__content\"><pre>['SalePrice']</pre></div></div></div><div class=\"sk-serial\"><div class=\"sk-item\"><div class=\"sk-serial\"><div class=\"sk-item\"><div class=\"sk-estimator sk-toggleable\"><input class=\"sk-toggleable__control sk-hidden--visually\" id=\"34a5b6e0-93a4-48a7-be3b-ff185f54c685\" type=\"checkbox\" ><label class=\"sk-toggleable__label\" for=\"34a5b6e0-93a4-48a7-be3b-ff185f54c685\">StandardScaler</label><div class=\"sk-toggleable__content\"><pre>StandardScaler()</pre></div></div></div></div></div></div></div></div></div></div></div></div>"
      ],
      "text/plain": [
       "ColumnTransformer(transformers=[('numeric_features',\n",
       "                                 Pipeline(steps=[('scale', StandardScaler())]),\n",
       "                                 ['OverallQual', 'GrLivArea', 'GarageArea',\n",
       "                                  'TotalBsmtSF', '1stFlrSF', 'FullBath',\n",
       "                                  'TotRmsAbvGrd', 'YearBuilt', 'YearRemodAdd',\n",
       "                                  'MasVnrArea', 'Fireplaces', 'GarageYrBlt']),\n",
       "                                ('categorical_features',\n",
       "                                 Pipeline(steps=[('onehot',\n",
       "                                                  OneHotEncoder(handle_unknown='ignore'))]),\n",
       "                                 ['MSZoning', 'LandSlope', 'HouseStyle',\n",
       "                                  'MasVnrType', 'ExterQual', 'BsmtQual',\n",
       "                                  'KitchenQual', 'GarageFinish', 'GarageType',\n",
       "                                  'SaleType', 'SaleCondition']),\n",
       "                                ('target',\n",
       "                                 Pipeline(steps=[('scale', StandardScaler())]),\n",
       "                                 ['SalePrice'])])"
      ]
     },
     "execution_count": 27,
     "metadata": {},
     "output_type": "execute_result"
    }
   ],
   "source": [
    "preprocess_pipeline_all = ColumnTransformer([\n",
    "    ('numeric_features', numeric_transformer, numeric_features),\n",
    "    ('categorical_features', categorical_transformer, categorical_features_),\n",
    "    ('target', numeric_transformer, Target)\n",
    "    ])\n",
    "preprocess_pipeline_all"
   ]
  },
  {
   "cell_type": "markdown",
   "metadata": {},
   "source": [
    "# Preprocessing"
   ]
  },
  {
   "cell_type": "code",
   "execution_count": 28,
   "metadata": {},
   "outputs": [],
   "source": [
    "X_processed = preprocess_pipeline.fit_transform(X_fts)"
   ]
  },
  {
   "cell_type": "code",
   "execution_count": 29,
   "metadata": {},
   "outputs": [],
   "source": [
    "# X_processed[:5]"
   ]
  },
  {
   "cell_type": "code",
   "execution_count": 30,
   "metadata": {},
   "outputs": [],
   "source": [
    "X_train_preprocessed = pd.DataFrame(X_processed)\n",
    "X_train_preprocessed.to_csv(\"X_train_preprocessed_df.csv\")"
   ]
  },
  {
   "cell_type": "code",
   "execution_count": 31,
   "metadata": {},
   "outputs": [
    {
     "data": {
      "text/html": [
       "<style>div.sk-top-container {color: black;background-color: white;}div.sk-toggleable {background-color: white;}label.sk-toggleable__label {cursor: pointer;display: block;width: 100%;margin-bottom: 0;padding: 0.2em 0.3em;box-sizing: border-box;text-align: center;}div.sk-toggleable__content {max-height: 0;max-width: 0;overflow: hidden;text-align: left;background-color: #f0f8ff;}div.sk-toggleable__content pre {margin: 0.2em;color: black;border-radius: 0.25em;background-color: #f0f8ff;}input.sk-toggleable__control:checked~div.sk-toggleable__content {max-height: 200px;max-width: 100%;overflow: auto;}div.sk-estimator input.sk-toggleable__control:checked~label.sk-toggleable__label {background-color: #d4ebff;}div.sk-label input.sk-toggleable__control:checked~label.sk-toggleable__label {background-color: #d4ebff;}input.sk-hidden--visually {border: 0;clip: rect(1px 1px 1px 1px);clip: rect(1px, 1px, 1px, 1px);height: 1px;margin: -1px;overflow: hidden;padding: 0;position: absolute;width: 1px;}div.sk-estimator {font-family: monospace;background-color: #f0f8ff;margin: 0.25em 0.25em;border: 1px dotted black;border-radius: 0.25em;box-sizing: border-box;}div.sk-estimator:hover {background-color: #d4ebff;}div.sk-parallel-item::after {content: \"\";width: 100%;border-bottom: 1px solid gray;flex-grow: 1;}div.sk-label:hover label.sk-toggleable__label {background-color: #d4ebff;}div.sk-serial::before {content: \"\";position: absolute;border-left: 1px solid gray;box-sizing: border-box;top: 2em;bottom: 0;left: 50%;}div.sk-serial {display: flex;flex-direction: column;align-items: center;background-color: white;}div.sk-item {z-index: 1;}div.sk-parallel {display: flex;align-items: stretch;justify-content: center;background-color: white;}div.sk-parallel-item {display: flex;flex-direction: column;position: relative;background-color: white;}div.sk-parallel-item:first-child::after {align-self: flex-end;width: 50%;}div.sk-parallel-item:last-child::after {align-self: flex-start;width: 50%;}div.sk-parallel-item:only-child::after {width: 0;}div.sk-dashed-wrapped {border: 1px dashed gray;margin: 0.2em;box-sizing: border-box;padding-bottom: 0.1em;background-color: white;position: relative;}div.sk-label label {font-family: monospace;font-weight: bold;background-color: white;display: inline-block;line-height: 1.2em;}div.sk-label-container {position: relative;z-index: 2;text-align: center;}div.sk-container {display: inline-block;position: relative;}</style><div class=\"sk-top-container\"><div class=\"sk-container\"><div class=\"sk-item sk-dashed-wrapped\"><div class=\"sk-label-container\"><div class=\"sk-label sk-toggleable\"><input class=\"sk-toggleable__control sk-hidden--visually\" id=\"3fd4ab86-67c8-4867-916e-cb1d2081d7b9\" type=\"checkbox\" ><label class=\"sk-toggleable__label\" for=\"3fd4ab86-67c8-4867-916e-cb1d2081d7b9\">ColumnTransformer</label><div class=\"sk-toggleable__content\"><pre>ColumnTransformer(transformers=[('target',\n",
       "                                 Pipeline(steps=[('scale', StandardScaler())]),\n",
       "                                 ['SalePrice'])])</pre></div></div></div><div class=\"sk-parallel\"><div class=\"sk-parallel-item\"><div class=\"sk-item\"><div class=\"sk-label-container\"><div class=\"sk-label sk-toggleable\"><input class=\"sk-toggleable__control sk-hidden--visually\" id=\"970cadc0-00b0-4c96-a0f5-4eecd0fed288\" type=\"checkbox\" ><label class=\"sk-toggleable__label\" for=\"970cadc0-00b0-4c96-a0f5-4eecd0fed288\">target</label><div class=\"sk-toggleable__content\"><pre>['SalePrice']</pre></div></div></div><div class=\"sk-serial\"><div class=\"sk-item\"><div class=\"sk-serial\"><div class=\"sk-item\"><div class=\"sk-estimator sk-toggleable\"><input class=\"sk-toggleable__control sk-hidden--visually\" id=\"91241bc5-6d4c-4e3a-bbe2-1e1d41433ec6\" type=\"checkbox\" ><label class=\"sk-toggleable__label\" for=\"91241bc5-6d4c-4e3a-bbe2-1e1d41433ec6\">StandardScaler</label><div class=\"sk-toggleable__content\"><pre>StandardScaler()</pre></div></div></div></div></div></div></div></div></div></div></div></div>"
      ],
      "text/plain": [
       "ColumnTransformer(transformers=[('target',\n",
       "                                 Pipeline(steps=[('scale', StandardScaler())]),\n",
       "                                 ['SalePrice'])])"
      ]
     },
     "execution_count": 31,
     "metadata": {},
     "output_type": "execute_result"
    }
   ],
   "source": [
    "preprocess_pipeline_Target = ColumnTransformer([('target', numeric_transformer, Target)])\n",
    "preprocess_pipeline_Target"
   ]
  },
  {
   "cell_type": "code",
   "execution_count": 32,
   "metadata": {},
   "outputs": [],
   "source": [
    "y_processed = preprocess_pipeline_Target.fit_transform(y)"
   ]
  },
  {
   "cell_type": "code",
   "execution_count": 33,
   "metadata": {},
   "outputs": [],
   "source": [
    "# y_processed[:5]"
   ]
  },
  {
   "cell_type": "code",
   "execution_count": 34,
   "metadata": {},
   "outputs": [],
   "source": [
    "y_train_preprocessed = pd.DataFrame(y_processed)\n",
    "y_train_preprocessed.to_csv(\"y_train_preprocessed_df.csv\")"
   ]
  },
  {
   "cell_type": "code",
   "execution_count": 35,
   "metadata": {},
   "outputs": [],
   "source": [
    "from sklearn.linear_model import LogisticRegression"
   ]
  },
  {
   "cell_type": "code",
   "execution_count": 36,
   "metadata": {},
   "outputs": [],
   "source": [
    "X_train, X_test, y_train, y_test = train_test_split(pd.DataFrame(X_processed), y, test_size=0.2, random_state=0)"
   ]
  },
  {
   "cell_type": "code",
   "execution_count": 37,
   "metadata": {},
   "outputs": [
    {
     "name": "stdout",
     "output_type": "stream",
     "text": [
      "(1168, 21)\n",
      "(292, 21)\n",
      "(1168, 1)\n",
      "(292, 1)\n"
     ]
    }
   ],
   "source": [
    "print(X_train.shape)\n",
    "print(X_test.shape)\n",
    "print(y_train.shape)\n",
    "print(y_test.shape)"
   ]
  },
  {
   "cell_type": "code",
   "execution_count": 38,
   "metadata": {},
   "outputs": [],
   "source": [
    "# X_train"
   ]
  },
  {
   "cell_type": "code",
   "execution_count": 39,
   "metadata": {},
   "outputs": [],
   "source": [
    "# y_train"
   ]
  },
  {
   "cell_type": "markdown",
   "metadata": {},
   "source": [
    "# Modeling"
   ]
  },
  {
   "cell_type": "markdown",
   "metadata": {},
   "source": [
    "# LogisticRegression"
   ]
  },
  {
   "cell_type": "code",
   "execution_count": 40,
   "metadata": {},
   "outputs": [
    {
     "data": {
      "text/html": [
       "<style>div.sk-top-container {color: black;background-color: white;}div.sk-toggleable {background-color: white;}label.sk-toggleable__label {cursor: pointer;display: block;width: 100%;margin-bottom: 0;padding: 0.2em 0.3em;box-sizing: border-box;text-align: center;}div.sk-toggleable__content {max-height: 0;max-width: 0;overflow: hidden;text-align: left;background-color: #f0f8ff;}div.sk-toggleable__content pre {margin: 0.2em;color: black;border-radius: 0.25em;background-color: #f0f8ff;}input.sk-toggleable__control:checked~div.sk-toggleable__content {max-height: 200px;max-width: 100%;overflow: auto;}div.sk-estimator input.sk-toggleable__control:checked~label.sk-toggleable__label {background-color: #d4ebff;}div.sk-label input.sk-toggleable__control:checked~label.sk-toggleable__label {background-color: #d4ebff;}input.sk-hidden--visually {border: 0;clip: rect(1px 1px 1px 1px);clip: rect(1px, 1px, 1px, 1px);height: 1px;margin: -1px;overflow: hidden;padding: 0;position: absolute;width: 1px;}div.sk-estimator {font-family: monospace;background-color: #f0f8ff;margin: 0.25em 0.25em;border: 1px dotted black;border-radius: 0.25em;box-sizing: border-box;}div.sk-estimator:hover {background-color: #d4ebff;}div.sk-parallel-item::after {content: \"\";width: 100%;border-bottom: 1px solid gray;flex-grow: 1;}div.sk-label:hover label.sk-toggleable__label {background-color: #d4ebff;}div.sk-serial::before {content: \"\";position: absolute;border-left: 1px solid gray;box-sizing: border-box;top: 2em;bottom: 0;left: 50%;}div.sk-serial {display: flex;flex-direction: column;align-items: center;background-color: white;}div.sk-item {z-index: 1;}div.sk-parallel {display: flex;align-items: stretch;justify-content: center;background-color: white;}div.sk-parallel-item {display: flex;flex-direction: column;position: relative;background-color: white;}div.sk-parallel-item:first-child::after {align-self: flex-end;width: 50%;}div.sk-parallel-item:last-child::after {align-self: flex-start;width: 50%;}div.sk-parallel-item:only-child::after {width: 0;}div.sk-dashed-wrapped {border: 1px dashed gray;margin: 0.2em;box-sizing: border-box;padding-bottom: 0.1em;background-color: white;position: relative;}div.sk-label label {font-family: monospace;font-weight: bold;background-color: white;display: inline-block;line-height: 1.2em;}div.sk-label-container {position: relative;z-index: 2;text-align: center;}div.sk-container {display: inline-block;position: relative;}</style><div class=\"sk-top-container\"><div class=\"sk-container\"><div class=\"sk-item\"><div class=\"sk-estimator sk-toggleable\"><input class=\"sk-toggleable__control sk-hidden--visually\" id=\"4afa10c9-742c-40ae-8d3f-0bd32a00c4b3\" type=\"checkbox\" checked><label class=\"sk-toggleable__label\" for=\"4afa10c9-742c-40ae-8d3f-0bd32a00c4b3\">LogisticRegression</label><div class=\"sk-toggleable__content\"><pre>LogisticRegression()</pre></div></div></div></div></div>"
      ],
      "text/plain": [
       "LogisticRegression()"
      ]
     },
     "execution_count": 40,
     "metadata": {},
     "output_type": "execute_result"
    }
   ],
   "source": [
    "mod1 = LogisticRegression()\n",
    "mod1.fit(X_train, y_train)"
   ]
  },
  {
   "cell_type": "code",
   "execution_count": 41,
   "metadata": {},
   "outputs": [
    {
     "name": "stdout",
     "output_type": "stream",
     "text": [
      "model score: 0.010\n"
     ]
    }
   ],
   "source": [
    "print(\"model score: %.3f\" % mod1.score(X_test, y_test))"
   ]
  },
  {
   "cell_type": "markdown",
   "metadata": {},
   "source": [
    "# SVC"
   ]
  },
  {
   "cell_type": "code",
   "execution_count": 42,
   "metadata": {},
   "outputs": [
    {
     "data": {
      "text/html": [
       "<style>div.sk-top-container {color: black;background-color: white;}div.sk-toggleable {background-color: white;}label.sk-toggleable__label {cursor: pointer;display: block;width: 100%;margin-bottom: 0;padding: 0.2em 0.3em;box-sizing: border-box;text-align: center;}div.sk-toggleable__content {max-height: 0;max-width: 0;overflow: hidden;text-align: left;background-color: #f0f8ff;}div.sk-toggleable__content pre {margin: 0.2em;color: black;border-radius: 0.25em;background-color: #f0f8ff;}input.sk-toggleable__control:checked~div.sk-toggleable__content {max-height: 200px;max-width: 100%;overflow: auto;}div.sk-estimator input.sk-toggleable__control:checked~label.sk-toggleable__label {background-color: #d4ebff;}div.sk-label input.sk-toggleable__control:checked~label.sk-toggleable__label {background-color: #d4ebff;}input.sk-hidden--visually {border: 0;clip: rect(1px 1px 1px 1px);clip: rect(1px, 1px, 1px, 1px);height: 1px;margin: -1px;overflow: hidden;padding: 0;position: absolute;width: 1px;}div.sk-estimator {font-family: monospace;background-color: #f0f8ff;margin: 0.25em 0.25em;border: 1px dotted black;border-radius: 0.25em;box-sizing: border-box;}div.sk-estimator:hover {background-color: #d4ebff;}div.sk-parallel-item::after {content: \"\";width: 100%;border-bottom: 1px solid gray;flex-grow: 1;}div.sk-label:hover label.sk-toggleable__label {background-color: #d4ebff;}div.sk-serial::before {content: \"\";position: absolute;border-left: 1px solid gray;box-sizing: border-box;top: 2em;bottom: 0;left: 50%;}div.sk-serial {display: flex;flex-direction: column;align-items: center;background-color: white;}div.sk-item {z-index: 1;}div.sk-parallel {display: flex;align-items: stretch;justify-content: center;background-color: white;}div.sk-parallel-item {display: flex;flex-direction: column;position: relative;background-color: white;}div.sk-parallel-item:first-child::after {align-self: flex-end;width: 50%;}div.sk-parallel-item:last-child::after {align-self: flex-start;width: 50%;}div.sk-parallel-item:only-child::after {width: 0;}div.sk-dashed-wrapped {border: 1px dashed gray;margin: 0.2em;box-sizing: border-box;padding-bottom: 0.1em;background-color: white;position: relative;}div.sk-label label {font-family: monospace;font-weight: bold;background-color: white;display: inline-block;line-height: 1.2em;}div.sk-label-container {position: relative;z-index: 2;text-align: center;}div.sk-container {display: inline-block;position: relative;}</style><div class=\"sk-top-container\"><div class=\"sk-container\"><div class=\"sk-item\"><div class=\"sk-estimator sk-toggleable\"><input class=\"sk-toggleable__control sk-hidden--visually\" id=\"f7326099-17e8-4a2f-a8cc-8492309dfd56\" type=\"checkbox\" checked><label class=\"sk-toggleable__label\" for=\"f7326099-17e8-4a2f-a8cc-8492309dfd56\">SVC</label><div class=\"sk-toggleable__content\"><pre>SVC(gamma='auto')</pre></div></div></div></div></div>"
      ],
      "text/plain": [
       "SVC(gamma='auto')"
      ]
     },
     "execution_count": 42,
     "metadata": {},
     "output_type": "execute_result"
    }
   ],
   "source": [
    "from sklearn.svm import SVC\n",
    "mod2 = SVC(gamma='auto')\n",
    "mod2.fit(X_train, y_train)"
   ]
  },
  {
   "cell_type": "code",
   "execution_count": 43,
   "metadata": {},
   "outputs": [
    {
     "name": "stdout",
     "output_type": "stream",
     "text": [
      "model score: 0.014\n"
     ]
    }
   ],
   "source": [
    "print(\"model score: %.3f\" % mod2.score(X_test, y_test))"
   ]
  },
  {
   "cell_type": "markdown",
   "metadata": {},
   "source": [
    "# SGDClassifier"
   ]
  },
  {
   "cell_type": "code",
   "execution_count": 44,
   "metadata": {},
   "outputs": [
    {
     "data": {
      "text/html": [
       "<style>div.sk-top-container {color: black;background-color: white;}div.sk-toggleable {background-color: white;}label.sk-toggleable__label {cursor: pointer;display: block;width: 100%;margin-bottom: 0;padding: 0.2em 0.3em;box-sizing: border-box;text-align: center;}div.sk-toggleable__content {max-height: 0;max-width: 0;overflow: hidden;text-align: left;background-color: #f0f8ff;}div.sk-toggleable__content pre {margin: 0.2em;color: black;border-radius: 0.25em;background-color: #f0f8ff;}input.sk-toggleable__control:checked~div.sk-toggleable__content {max-height: 200px;max-width: 100%;overflow: auto;}div.sk-estimator input.sk-toggleable__control:checked~label.sk-toggleable__label {background-color: #d4ebff;}div.sk-label input.sk-toggleable__control:checked~label.sk-toggleable__label {background-color: #d4ebff;}input.sk-hidden--visually {border: 0;clip: rect(1px 1px 1px 1px);clip: rect(1px, 1px, 1px, 1px);height: 1px;margin: -1px;overflow: hidden;padding: 0;position: absolute;width: 1px;}div.sk-estimator {font-family: monospace;background-color: #f0f8ff;margin: 0.25em 0.25em;border: 1px dotted black;border-radius: 0.25em;box-sizing: border-box;}div.sk-estimator:hover {background-color: #d4ebff;}div.sk-parallel-item::after {content: \"\";width: 100%;border-bottom: 1px solid gray;flex-grow: 1;}div.sk-label:hover label.sk-toggleable__label {background-color: #d4ebff;}div.sk-serial::before {content: \"\";position: absolute;border-left: 1px solid gray;box-sizing: border-box;top: 2em;bottom: 0;left: 50%;}div.sk-serial {display: flex;flex-direction: column;align-items: center;background-color: white;}div.sk-item {z-index: 1;}div.sk-parallel {display: flex;align-items: stretch;justify-content: center;background-color: white;}div.sk-parallel-item {display: flex;flex-direction: column;position: relative;background-color: white;}div.sk-parallel-item:first-child::after {align-self: flex-end;width: 50%;}div.sk-parallel-item:last-child::after {align-self: flex-start;width: 50%;}div.sk-parallel-item:only-child::after {width: 0;}div.sk-dashed-wrapped {border: 1px dashed gray;margin: 0.2em;box-sizing: border-box;padding-bottom: 0.1em;background-color: white;position: relative;}div.sk-label label {font-family: monospace;font-weight: bold;background-color: white;display: inline-block;line-height: 1.2em;}div.sk-label-container {position: relative;z-index: 2;text-align: center;}div.sk-container {display: inline-block;position: relative;}</style><div class=\"sk-top-container\"><div class=\"sk-container\"><div class=\"sk-item\"><div class=\"sk-estimator sk-toggleable\"><input class=\"sk-toggleable__control sk-hidden--visually\" id=\"b51af876-3f91-4e5f-8af5-061848af35ea\" type=\"checkbox\" checked><label class=\"sk-toggleable__label\" for=\"b51af876-3f91-4e5f-8af5-061848af35ea\">SGDClassifier</label><div class=\"sk-toggleable__content\"><pre>SGDClassifier(max_iter=5)</pre></div></div></div></div></div>"
      ],
      "text/plain": [
       "SGDClassifier(max_iter=5)"
      ]
     },
     "execution_count": 44,
     "metadata": {},
     "output_type": "execute_result"
    }
   ],
   "source": [
    "from sklearn.linear_model import SGDClassifier\n",
    "mod3 = SGDClassifier(loss=\"hinge\", penalty=\"l2\", max_iter=5)\n",
    "mod3.fit(X_train, y_train)"
   ]
  },
  {
   "cell_type": "code",
   "execution_count": 45,
   "metadata": {},
   "outputs": [
    {
     "name": "stdout",
     "output_type": "stream",
     "text": [
      "model score: 0.007\n"
     ]
    }
   ],
   "source": [
    "print(\"model score: %.3f\" % mod3.score(X_test, y_test))"
   ]
  },
  {
   "cell_type": "markdown",
   "metadata": {},
   "source": [
    "# LinearRegression"
   ]
  },
  {
   "cell_type": "code",
   "execution_count": 46,
   "metadata": {},
   "outputs": [
    {
     "data": {
      "text/html": [
       "<style>div.sk-top-container {color: black;background-color: white;}div.sk-toggleable {background-color: white;}label.sk-toggleable__label {cursor: pointer;display: block;width: 100%;margin-bottom: 0;padding: 0.2em 0.3em;box-sizing: border-box;text-align: center;}div.sk-toggleable__content {max-height: 0;max-width: 0;overflow: hidden;text-align: left;background-color: #f0f8ff;}div.sk-toggleable__content pre {margin: 0.2em;color: black;border-radius: 0.25em;background-color: #f0f8ff;}input.sk-toggleable__control:checked~div.sk-toggleable__content {max-height: 200px;max-width: 100%;overflow: auto;}div.sk-estimator input.sk-toggleable__control:checked~label.sk-toggleable__label {background-color: #d4ebff;}div.sk-label input.sk-toggleable__control:checked~label.sk-toggleable__label {background-color: #d4ebff;}input.sk-hidden--visually {border: 0;clip: rect(1px 1px 1px 1px);clip: rect(1px, 1px, 1px, 1px);height: 1px;margin: -1px;overflow: hidden;padding: 0;position: absolute;width: 1px;}div.sk-estimator {font-family: monospace;background-color: #f0f8ff;margin: 0.25em 0.25em;border: 1px dotted black;border-radius: 0.25em;box-sizing: border-box;}div.sk-estimator:hover {background-color: #d4ebff;}div.sk-parallel-item::after {content: \"\";width: 100%;border-bottom: 1px solid gray;flex-grow: 1;}div.sk-label:hover label.sk-toggleable__label {background-color: #d4ebff;}div.sk-serial::before {content: \"\";position: absolute;border-left: 1px solid gray;box-sizing: border-box;top: 2em;bottom: 0;left: 50%;}div.sk-serial {display: flex;flex-direction: column;align-items: center;background-color: white;}div.sk-item {z-index: 1;}div.sk-parallel {display: flex;align-items: stretch;justify-content: center;background-color: white;}div.sk-parallel-item {display: flex;flex-direction: column;position: relative;background-color: white;}div.sk-parallel-item:first-child::after {align-self: flex-end;width: 50%;}div.sk-parallel-item:last-child::after {align-self: flex-start;width: 50%;}div.sk-parallel-item:only-child::after {width: 0;}div.sk-dashed-wrapped {border: 1px dashed gray;margin: 0.2em;box-sizing: border-box;padding-bottom: 0.1em;background-color: white;position: relative;}div.sk-label label {font-family: monospace;font-weight: bold;background-color: white;display: inline-block;line-height: 1.2em;}div.sk-label-container {position: relative;z-index: 2;text-align: center;}div.sk-container {display: inline-block;position: relative;}</style><div class=\"sk-top-container\"><div class=\"sk-container\"><div class=\"sk-item\"><div class=\"sk-estimator sk-toggleable\"><input class=\"sk-toggleable__control sk-hidden--visually\" id=\"5d64d1b2-3f2f-4661-85b0-219e62b67f3a\" type=\"checkbox\" checked><label class=\"sk-toggleable__label\" for=\"5d64d1b2-3f2f-4661-85b0-219e62b67f3a\">LinearRegression</label><div class=\"sk-toggleable__content\"><pre>LinearRegression()</pre></div></div></div></div></div>"
      ],
      "text/plain": [
       "LinearRegression()"
      ]
     },
     "execution_count": 46,
     "metadata": {},
     "output_type": "execute_result"
    }
   ],
   "source": [
    "mod4 = LinearRegression()\n",
    "mod4.fit(X_train.select_dtypes(include='number'), y_train)"
   ]
  },
  {
   "cell_type": "code",
   "execution_count": 47,
   "metadata": {},
   "outputs": [
    {
     "name": "stdout",
     "output_type": "stream",
     "text": [
      "model score: 0.647\n"
     ]
    }
   ],
   "source": [
    "print(\"model score: %.3f\" % mod4.score(X_test.select_dtypes(include='number'), y_test))"
   ]
  },
  {
   "cell_type": "code",
   "execution_count": 48,
   "metadata": {},
   "outputs": [
    {
     "name": "stdout",
     "output_type": "stream",
     "text": [
      "[[335201.11099457]\n",
      " [106688.38750775]\n",
      " [121877.00136764]\n",
      " [255364.11148368]\n",
      " [230639.46909459]\n",
      " [183103.51088216]\n",
      " [148656.29490976]\n",
      " [171832.03821005]\n",
      " [ 86518.88277036]\n",
      " [138828.47732646]]\n"
     ]
    }
   ],
   "source": [
    "# Evaluation du training set\n",
    "from sklearn.metrics import r2_score\n",
    "y_train_predict = mod4.predict(X_train.select_dtypes(include='number'))\n",
    "print(y_train_predict[:10])"
   ]
  },
  {
   "cell_type": "code",
   "execution_count": 49,
   "metadata": {},
   "outputs": [],
   "source": [
    "from sklearn.metrics import mean_squared_error"
   ]
  },
  {
   "cell_type": "code",
   "execution_count": 50,
   "metadata": {},
   "outputs": [
    {
     "name": "stdout",
     "output_type": "stream",
     "text": [
      "----------------------------------------------------\n",
      "La performance du modèle sur la base dapprentissage\n",
      "----------------------------------------------------\n",
      "\n",
      "Lerreur quadratique moyenne est 32818.44451657064\n",
      "le score R² est 0.8250678471757185\n",
      "\n",
      "\n"
     ]
    }
   ],
   "source": [
    "rmse2 = (np.sqrt(mean_squared_error(y_train, y_train_predict)))\n",
    "r22 = r2_score(y_train, y_train_predict)\n",
    "print('----------------------------------------------------')\n",
    "print('La performance du modèle sur la base dapprentissage')\n",
    "print('----------------------------------------------------\\n')\n",
    "print('Lerreur quadratique moyenne est {}'.format(rmse2))\n",
    "print('le score R² est {}'.format(r22))\n",
    "print('\\n')"
   ]
  },
  {
   "cell_type": "code",
   "execution_count": 51,
   "metadata": {},
   "outputs": [
    {
     "name": "stdout",
     "output_type": "stream",
     "text": [
      "[[284002.51179449]\n",
      " [150658.73530853]\n",
      " [117433.18219491]\n",
      " [234095.385108  ]\n",
      " [100854.94884036]\n",
      " [116508.43716192]\n",
      " [233724.34045022]\n",
      " [152982.02162355]\n",
      " [493225.47606189]\n",
      " [150600.63818332]\n",
      " [254983.60782084]\n",
      " [184601.19322828]\n",
      " [224697.25314966]\n",
      " [110952.08354098]\n",
      " [135799.36127923]\n",
      " [148296.71418199]\n",
      " [208821.47970918]\n",
      " [ 92446.86915976]\n",
      " [133913.48521731]\n",
      " [179202.88818828]\n",
      " [150311.89368226]\n",
      " [144222.9125638 ]\n",
      " [115982.95371566]\n",
      " [167252.92292626]\n",
      " [188564.89088122]\n",
      " [202393.81966988]\n",
      " [164499.70009633]\n",
      " [ 61332.06770422]\n",
      " [328128.85049068]\n",
      " [107565.9424239 ]\n",
      " [187597.24097236]\n",
      " [189111.49550768]\n",
      " [142971.58825413]\n",
      " [264866.17025649]\n",
      " [358304.77317521]\n",
      " [171070.34207479]\n",
      " [303681.09346952]\n",
      " [112443.28467686]\n",
      " [233466.80219053]\n",
      " [336982.19668246]\n",
      " [209078.73090512]\n",
      " [123541.51721627]\n",
      " [211558.35099642]\n",
      " [328560.72959805]\n",
      " [313104.1162159 ]\n",
      " [180936.74799554]\n",
      " [124943.66034023]\n",
      " [106688.38750775]\n",
      " [175006.1274133 ]\n",
      " [ 46275.76202607]\n",
      " [367442.11193083]\n",
      " [137490.29828102]\n",
      " [188200.60263305]\n",
      " [ 53816.35799366]\n",
      " [230767.15398795]\n",
      " [ 96249.98468023]\n",
      " [ 95698.90605749]\n",
      " [241889.72012327]\n",
      " [133943.51372903]\n",
      " [107875.20388629]\n",
      " [131344.72689293]\n",
      " [119234.43821114]\n",
      " [136653.3062179 ]\n",
      " [142942.10014457]\n",
      " [205243.34162444]\n",
      " [184709.68875752]\n",
      " [113943.48602828]\n",
      " [262076.07098869]\n",
      " [127081.09431285]\n",
      " [188386.08062168]\n",
      " [184905.59144013]\n",
      " [120765.26172219]\n",
      " [ 55448.87106374]\n",
      " [236347.76303155]\n",
      " [ 71097.33731219]\n",
      " [272325.88432647]\n",
      " [112743.87602232]\n",
      " [103282.65711927]\n",
      " [272697.8877079 ]\n",
      " [170608.72731384]\n",
      " [133492.25477006]\n",
      " [105550.9440089 ]\n",
      " [130689.11856626]\n",
      " [137947.0092293 ]\n",
      " [228891.56721163]\n",
      " [198944.81289044]\n",
      " [ 94913.82248569]\n",
      " [215338.59803918]\n",
      " [169320.83334683]\n",
      " [137757.34275118]\n",
      " [181337.94098432]\n",
      " [185438.92048688]\n",
      " [170643.94264394]\n",
      " [208476.16452534]\n",
      " [263076.92997465]\n",
      " [161480.07583182]\n",
      " [214795.85151189]\n",
      " [195936.60710785]\n",
      " [ 95307.97031676]\n",
      " [149859.282352  ]\n",
      " [246909.99713614]\n",
      " [179970.16860611]\n",
      " [100642.42741593]\n",
      " [161763.65697278]\n",
      " [111674.33482767]\n",
      " [258525.77843989]\n",
      " [141195.61479399]\n",
      " [ 82420.80623546]\n",
      " [185377.12293285]\n",
      " [124367.34900661]\n",
      " [ 82209.86748183]\n",
      " [100473.76429143]\n",
      " [189730.17691248]\n",
      " [125676.91557951]\n",
      " [174656.33076338]\n",
      " [164754.99884995]\n",
      " [409462.50888206]\n",
      " [133162.2246688 ]\n",
      " [215149.48935802]\n",
      " [258940.40486845]\n",
      " [147443.11332972]\n",
      " [158486.62944168]\n",
      " [126744.90178711]\n",
      " [204494.70851241]\n",
      " [218232.05034515]\n",
      " [277718.72934172]\n",
      " [372731.71475196]\n",
      " [210202.10370451]\n",
      " [213097.01842841]\n",
      " [178886.41550542]\n",
      " [244003.24145289]\n",
      " [203656.89909433]\n",
      " [177217.54515567]\n",
      " [197475.92390656]\n",
      " [ 72814.9469345 ]\n",
      " [282535.46634099]\n",
      " [145162.89496843]\n",
      " [194620.35853693]\n",
      " [ 90426.43985454]\n",
      " [173862.44998543]\n",
      " [125681.98853237]\n",
      " [133672.3888685 ]\n",
      " [223080.00510661]\n",
      " [133922.71363464]\n",
      " [156290.5059178 ]\n",
      " [171712.03740284]\n",
      " [237195.48885987]\n",
      " [126750.01444083]\n",
      " [313151.23869549]\n",
      " [211327.56590699]\n",
      " [186289.9634341 ]\n",
      " [350723.1529248 ]\n",
      " [330606.70817854]\n",
      " [172478.53135158]\n",
      " [178050.42684412]\n",
      " [275564.63510807]\n",
      " [141181.37093016]\n",
      " [192320.82012982]\n",
      " [132187.86262582]\n",
      " [173909.16325751]\n",
      " [ 85955.13606141]\n",
      " [133770.83899972]\n",
      " [207101.2156073 ]\n",
      " [108834.07244824]\n",
      " [248316.56049116]\n",
      " [120792.2766889 ]\n",
      " [142330.0309017 ]\n",
      " [263197.2052954 ]\n",
      " [202081.48971564]\n",
      " [168816.96271236]\n",
      " [189597.01135929]\n",
      " [161827.27736809]\n",
      " [188133.72447318]\n",
      " [160261.3724632 ]\n",
      " [130153.24483244]\n",
      " [ 98058.25803506]\n",
      " [110253.06769085]\n",
      " [251653.9159041 ]\n",
      " [133982.25983888]\n",
      " [146389.8412336 ]\n",
      " [271946.1731298 ]\n",
      " [192180.72270994]\n",
      " [127281.757397  ]\n",
      " [305230.80512632]\n",
      " [ 98422.51264802]\n",
      " [168719.6221376 ]\n",
      " [111216.65917853]\n",
      " [208804.82927301]\n",
      " [270337.8354283 ]\n",
      " [136297.07640084]\n",
      " [129423.64330914]\n",
      " [156522.71228662]\n",
      " [215666.68508984]\n",
      " [125532.33578377]\n",
      " [119222.44302115]\n",
      " [144207.52593102]\n",
      " [ 74028.33152279]\n",
      " [127830.2054263 ]\n",
      " [184655.12464753]\n",
      " [131864.96953893]\n",
      " [118996.86828946]\n",
      " [210498.97864248]\n",
      " [136495.09472218]\n",
      " [112649.19447   ]\n",
      " [137663.35670761]\n",
      " [236682.36004006]\n",
      " [166146.00168466]\n",
      " [337165.28511694]\n",
      " [262128.07932583]\n",
      " [ 59085.86919155]\n",
      " [137600.1866608 ]\n",
      " [234728.94870473]\n",
      " [ 54607.23075274]\n",
      " [ 83508.18756609]\n",
      " [342760.13426851]\n",
      " [206948.60587553]\n",
      " [189895.26551455]\n",
      " [278458.65743158]\n",
      " [255280.14012528]\n",
      " [ 61332.06770422]\n",
      " [203825.77809472]\n",
      " [180065.96213198]\n",
      " [142640.46878903]\n",
      " [109136.85717756]\n",
      " [212465.05006132]\n",
      " [237794.22411965]\n",
      " [246314.87585079]\n",
      " [220750.59540567]\n",
      " [123693.31423457]\n",
      " [173160.94716788]\n",
      " [ 54819.69651183]\n",
      " [162779.56249651]\n",
      " [ 74754.22854055]\n",
      " [133162.26980308]\n",
      " [216789.93673923]\n",
      " [143128.04280128]\n",
      " [145169.77539587]\n",
      " [102215.22281614]\n",
      " [ 59061.20879081]\n",
      " [181478.91583553]\n",
      " [117069.42106766]\n",
      " [189098.36839055]\n",
      " [204323.75458365]\n",
      " [210200.47046876]\n",
      " [173642.33354899]\n",
      " [189480.52538125]\n",
      " [198700.23121064]\n",
      " [190394.12184467]\n",
      " [119277.90886598]\n",
      " [220988.06109607]\n",
      " [170266.88381053]\n",
      " [272263.719579  ]\n",
      " [ 87050.77672085]\n",
      " [400307.85613811]\n",
      " [229298.25588185]\n",
      " [248776.94130983]\n",
      " [ 84114.17898692]\n",
      " [218346.38600593]\n",
      " [345704.74293003]\n",
      " [743220.32358739]\n",
      " [213173.70540618]\n",
      " [116542.87790389]\n",
      " [159902.30638602]\n",
      " [ 65326.00822105]\n",
      " [406649.6767014 ]\n",
      " [333968.99041517]\n",
      " [313922.2704183 ]\n",
      " [ 55676.51454989]\n",
      " [216071.14215763]\n",
      " [259752.94942671]\n",
      " [126344.73493831]\n",
      " [217229.67750788]\n",
      " [134082.04308997]\n",
      " [186541.04209145]\n",
      " [156624.32154909]\n",
      " [226754.22425285]\n",
      " [205793.90515666]\n",
      " [174279.57099587]\n",
      " [215729.54452906]\n",
      " [115684.00542115]\n",
      " [103150.97479168]\n",
      " [349395.26676212]\n",
      " [143964.36206208]\n",
      " [139965.51264571]\n",
      " [213592.42145128]\n",
      " [224013.27507196]\n",
      " [128959.41353999]\n",
      " [252980.50315851]\n",
      " [425299.12798269]\n",
      " [177623.49076676]\n",
      " [ 50901.11765269]\n",
      " [103635.75200667]]\n"
     ]
    }
   ],
   "source": [
    " # model evaluation for testing set\n",
    "y_test_predict = mod4.predict(X_test.select_dtypes(include='number'))\n",
    "print(y_test_predict)"
   ]
  },
  {
   "cell_type": "code",
   "execution_count": 52,
   "metadata": {},
   "outputs": [
    {
     "name": "stdout",
     "output_type": "stream",
     "text": [
      "----------------------------------------------------\n",
      "La performance du modèle sur la base de test\n",
      "----------------------------------------------------\n",
      "\n",
      "Lerreur quadratique moyenne est 49379.193366114014\n",
      "le score R² est 0.6469218488386466\n"
     ]
    }
   ],
   "source": [
    "rmse2 = (np.sqrt(mean_squared_error(y_test, y_test_predict)))\n",
    "r22 = r2_score(y_test, y_test_predict)\n",
    "\n",
    "print('----------------------------------------------------')\n",
    "print('La performance du modèle sur la base de test')\n",
    "print('----------------------------------------------------\\n')\n",
    "print('Lerreur quadratique moyenne est {}'.format(rmse2))\n",
    "print('le score R² est {}'.format(r22))"
   ]
  },
  {
   "cell_type": "markdown",
   "metadata": {},
   "source": [
    "# Lasso"
   ]
  },
  {
   "cell_type": "code",
   "execution_count": 53,
   "metadata": {},
   "outputs": [
    {
     "name": "stdout",
     "output_type": "stream",
     "text": [
      "Cross val score: 0.8153503561520601\n",
      "R^2 score: 0.6469261749187316\n",
      "Mean Absolute Erro: 25443.349369634805\n"
     ]
    }
   ],
   "source": [
    "from sklearn.model_selection import cross_val_score\n",
    "from sklearn import linear_model\n",
    "#model evaluation function\n",
    "from sklearn.metrics import r2_score, mean_absolute_error\n",
    "from sklearn.model_selection import cross_val_score\n",
    "\n",
    "def model_evaluate(y_true, y_pred):\n",
    "    r2 = r2_score(y_true, y_pred)\n",
    "    mae = mean_absolute_error(y_true, y_pred)\n",
    "    return r2, mae\n",
    "    \n",
    "lasso_reg = linear_model.Lasso(alpha=0.1, random_state = 32).fit(X_train, y_train)\n",
    "cv_r2 = cross_val_score(lasso_reg, X_train, y_train, cv = 10)\n",
    "y_preds = lasso_reg.predict(X_test)\n",
    "cv_r2 = np.mean(cv_r2)\n",
    "print(\"Cross val score: \" + str(cv_r2))\n",
    "r2, mae = model_evaluate(y_test, y_preds)\n",
    "print(\"R^2 score: \" + str(r2))\n",
    "print(\"Mean Absolute Erro: \" + str(mae))"
   ]
  },
  {
   "cell_type": "markdown",
   "metadata": {},
   "source": [
    "# Ridge"
   ]
  },
  {
   "cell_type": "code",
   "execution_count": 54,
   "metadata": {},
   "outputs": [
    {
     "name": "stdout",
     "output_type": "stream",
     "text": [
      "Cross val score: 0.8154970795280299\n",
      "R^2 score: 0.6473791484247278\n",
      "Mean Absolute Erro: 25416.635661216937\n"
     ]
    }
   ],
   "source": [
    "from sklearn import linear_model\n",
    "ridge_reg = linear_model.Ridge(alpha=.5).fit(X_train, y_train)\n",
    "cv_r2 = cross_val_score(ridge_reg, X_train, y_train, cv = 10)\n",
    "y_preds = ridge_reg.predict(X_test)\n",
    "cv_r2 = np.mean(cv_r2)\n",
    "print(\"Cross val score: \" + str(cv_r2))\n",
    "r2, mae = model_evaluate(y_test, y_preds)\n",
    "print(\"R^2 score: \" + str(r2))\n",
    "print(\"Mean Absolute Erro: \" + str(mae))"
   ]
  },
  {
   "cell_type": "markdown",
   "metadata": {},
   "source": [
    "# RandomForestRegressor"
   ]
  },
  {
   "cell_type": "code",
   "execution_count": 55,
   "metadata": {},
   "outputs": [
    {
     "name": "stdout",
     "output_type": "stream",
     "text": [
      "Cross val score: 0.8120493526900867\n",
      "R^2 score: 0.8395637268911317\n",
      "Mean Absolute Erro: 19802.39886699653\n"
     ]
    }
   ],
   "source": [
    "from sklearn.ensemble import RandomForestRegressor\n",
    "rf_reg = RandomForestRegressor(n_estimators=1000).fit(X_train, y_train)\n",
    "cv_r2 = cross_val_score(rf_reg, X_train, y_train, cv = 10)\n",
    "y_preds = rf_reg.predict(X_test)\n",
    "cv_r2 = np.mean(cv_r2)\n",
    "print(\"Cross val score: \" + str(cv_r2))\n",
    "r2, mae = model_evaluate(y_test, y_preds)\n",
    "print(\"R^2 score: \" + str(r2))\n",
    "print(\"Mean Absolute Erro: \" + str(mae))"
   ]
  },
  {
   "cell_type": "markdown",
   "metadata": {},
   "source": [
    "# GradientBoostingRegressor"
   ]
  },
  {
   "cell_type": "code",
   "execution_count": 56,
   "metadata": {},
   "outputs": [
    {
     "name": "stdout",
     "output_type": "stream",
     "text": [
      "Cross val score: 0.789287816144302\n",
      "R^2 score: 0.821660195891409\n",
      "Mean Absolute Erro: 22178.424163343218\n"
     ]
    }
   ],
   "source": [
    "from sklearn.ensemble import GradientBoostingRegressor\n",
    "gbr_reg = GradientBoostingRegressor(n_estimators=1000, learning_rate=0.01, max_depth=1, random_state=31).fit(X_train, y_train)\n",
    "cv_r2 = cross_val_score(gbr_reg, X_train, y_train, cv = 10)\n",
    "y_preds = gbr_reg.predict(X_test)\n",
    "cv_r2 = np.mean(cv_r2)\n",
    "print(\"Cross val score: \" + str(cv_r2))\n",
    "r2, mae = model_evaluate(y_test, y_preds)\n",
    "print(\"R^2 score: \" + str(r2))\n",
    "print(\"Mean Absolute Erro: \" + str(mae))"
   ]
  },
  {
   "cell_type": "markdown",
   "metadata": {},
   "source": [
    "# LinearSVC"
   ]
  },
  {
   "cell_type": "code",
   "execution_count": 57,
   "metadata": {},
   "outputs": [
    {
     "data": {
      "text/html": [
       "<style>div.sk-top-container {color: black;background-color: white;}div.sk-toggleable {background-color: white;}label.sk-toggleable__label {cursor: pointer;display: block;width: 100%;margin-bottom: 0;padding: 0.2em 0.3em;box-sizing: border-box;text-align: center;}div.sk-toggleable__content {max-height: 0;max-width: 0;overflow: hidden;text-align: left;background-color: #f0f8ff;}div.sk-toggleable__content pre {margin: 0.2em;color: black;border-radius: 0.25em;background-color: #f0f8ff;}input.sk-toggleable__control:checked~div.sk-toggleable__content {max-height: 200px;max-width: 100%;overflow: auto;}div.sk-estimator input.sk-toggleable__control:checked~label.sk-toggleable__label {background-color: #d4ebff;}div.sk-label input.sk-toggleable__control:checked~label.sk-toggleable__label {background-color: #d4ebff;}input.sk-hidden--visually {border: 0;clip: rect(1px 1px 1px 1px);clip: rect(1px, 1px, 1px, 1px);height: 1px;margin: -1px;overflow: hidden;padding: 0;position: absolute;width: 1px;}div.sk-estimator {font-family: monospace;background-color: #f0f8ff;margin: 0.25em 0.25em;border: 1px dotted black;border-radius: 0.25em;box-sizing: border-box;}div.sk-estimator:hover {background-color: #d4ebff;}div.sk-parallel-item::after {content: \"\";width: 100%;border-bottom: 1px solid gray;flex-grow: 1;}div.sk-label:hover label.sk-toggleable__label {background-color: #d4ebff;}div.sk-serial::before {content: \"\";position: absolute;border-left: 1px solid gray;box-sizing: border-box;top: 2em;bottom: 0;left: 50%;}div.sk-serial {display: flex;flex-direction: column;align-items: center;background-color: white;}div.sk-item {z-index: 1;}div.sk-parallel {display: flex;align-items: stretch;justify-content: center;background-color: white;}div.sk-parallel-item {display: flex;flex-direction: column;position: relative;background-color: white;}div.sk-parallel-item:first-child::after {align-self: flex-end;width: 50%;}div.sk-parallel-item:last-child::after {align-self: flex-start;width: 50%;}div.sk-parallel-item:only-child::after {width: 0;}div.sk-dashed-wrapped {border: 1px dashed gray;margin: 0.2em;box-sizing: border-box;padding-bottom: 0.1em;background-color: white;position: relative;}div.sk-label label {font-family: monospace;font-weight: bold;background-color: white;display: inline-block;line-height: 1.2em;}div.sk-label-container {position: relative;z-index: 2;text-align: center;}div.sk-container {display: inline-block;position: relative;}</style><div class=\"sk-top-container\"><div class=\"sk-container\"><div class=\"sk-item\"><div class=\"sk-estimator sk-toggleable\"><input class=\"sk-toggleable__control sk-hidden--visually\" id=\"9410819d-f982-48d2-8ea3-f47cbeaa9534\" type=\"checkbox\" checked><label class=\"sk-toggleable__label\" for=\"9410819d-f982-48d2-8ea3-f47cbeaa9534\">LinearSVC</label><div class=\"sk-toggleable__content\"><pre>LinearSVC(dual=False, max_iter=17000, penalty='l1', tol=1e-07)</pre></div></div></div></div></div>"
      ],
      "text/plain": [
       "LinearSVC(dual=False, max_iter=17000, penalty='l1', tol=1e-07)"
      ]
     },
     "execution_count": 57,
     "metadata": {},
     "output_type": "execute_result"
    }
   ],
   "source": [
    "from sklearn.svm import LinearSVC\n",
    "linear_svc = LinearSVC(max_iter=17000, tol=1e-7, penalty='l1', dual=False)\n",
    "linear_svc.fit(X_train, y_train)"
   ]
  },
  {
   "cell_type": "code",
   "execution_count": 58,
   "metadata": {},
   "outputs": [
    {
     "data": {
      "text/plain": [
       "0.1309931506849315"
      ]
     },
     "execution_count": 58,
     "metadata": {},
     "output_type": "execute_result"
    }
   ],
   "source": [
    "linear_svc.score(X_train,y_train)"
   ]
  },
  {
   "cell_type": "code",
   "execution_count": 59,
   "metadata": {},
   "outputs": [
    {
     "data": {
      "text/plain": [
       "0.0136986301369863"
      ]
     },
     "execution_count": 59,
     "metadata": {},
     "output_type": "execute_result"
    }
   ],
   "source": [
    "linear_svc.score(X_test,y_test)"
   ]
  },
  {
   "cell_type": "code",
   "execution_count": 60,
   "metadata": {},
   "outputs": [
    {
     "name": "stdout",
     "output_type": "stream",
     "text": [
      "Feature Importances : [[ 0.         -0.0284955  -0.02378152 ...  0.         -0.06087053\n",
      "   0.        ]\n",
      " [-0.19470191 -0.15429772  0.04608357 ...  0.         -0.43890556\n",
      "   0.        ]\n",
      " [-0.03954052  0.         -0.02135639 ...  0.         -0.07731195\n",
      "   0.        ]\n",
      " ...\n",
      " [ 0.          0.          0.         ...  0.         -0.03390484\n",
      "   0.        ]\n",
      " [ 0.0284278   0.0372055   0.         ...  0.          0.\n",
      "  -0.03313049]\n",
      " [ 0.          0.10472724  0.         ...  0.          0.\n",
      "  -0.10178855]]\n"
     ]
    }
   ],
   "source": [
    "print(\"Feature Importances :\", linear_svc.coef_)"
   ]
  },
  {
   "cell_type": "code",
   "execution_count": 61,
   "metadata": {},
   "outputs": [],
   "source": [
    "#print(\"Model Intercept :\", linear_svc.intercept_)"
   ]
  },
  {
   "cell_type": "markdown",
   "metadata": {},
   "source": [
    "## GridSearchCV"
   ]
  },
  {
   "cell_type": "code",
   "execution_count": 62,
   "metadata": {},
   "outputs": [
    {
     "name": "stdout",
     "output_type": "stream",
     "text": [
      "Fitting 5 folds for each of 4 candidates, totalling 20 fits\n"
     ]
    },
    {
     "name": "stderr",
     "output_type": "stream",
     "text": [
      "[Parallel(n_jobs=-1)]: Using backend LokyBackend with 4 concurrent workers.\n",
      "[Parallel(n_jobs=-1)]: Done  10 tasks      | elapsed:    8.2s\n",
      "[Parallel(n_jobs=-1)]: Done  18 out of  20 | elapsed:   26.3s remaining:    2.8s\n",
      "[Parallel(n_jobs=-1)]: Done  20 out of  20 | elapsed:   34.3s finished\n"
     ]
    },
    {
     "name": "stdout",
     "output_type": "stream",
     "text": [
      "Train Accuracy : 0.173\n",
      "Test Accuracy : 0.014\n",
      "Best Accuracy Through Grid Search : 0.012\n",
      "Wall time: 35.2 s\n"
     ]
    }
   ],
   "source": [
    "%%time\n",
    "\n",
    "from sklearn.model_selection import GridSearchCV\n",
    "\n",
    "params = {\n",
    "            'C': [0.1, 0.5, 1.0, 10.0],\n",
    "         }\n",
    "\n",
    "\n",
    "linear_svc_classifier_grid = GridSearchCV(LinearSVC(random_state=1, max_iter=1000000), param_grid=params, n_jobs=-1, cv=5, verbose=5)\n",
    "linear_svc_classifier_grid.fit(X_train,y_train)\n",
    "\n",
    "print('Train Accuracy : %.3f'%linear_svc_classifier_grid.best_estimator_.score(X_train, y_train))\n",
    "print('Test Accuracy : %.3f'%linear_svc_classifier_grid.best_estimator_.score(X_test, y_test))\n",
    "print('Best Accuracy Through Grid Search : %.3f'%linear_svc_classifier_grid.best_score_)"
   ]
  },
  {
   "cell_type": "code",
   "execution_count": 63,
   "metadata": {},
   "outputs": [
    {
     "name": "stdout",
     "output_type": "stream",
     "text": [
      "Number of Various Combinations of Parameters Tried : 4\n"
     ]
    }
   ],
   "source": [
    "cross_val_results = pd.DataFrame(linear_svc_classifier_grid.cv_results_)\n",
    "print('Number of Various Combinations of Parameters Tried : %d'%len(cross_val_results))"
   ]
  },
  {
   "cell_type": "code",
   "execution_count": 64,
   "metadata": {},
   "outputs": [
    {
     "data": {
      "text/html": [
       "<div>\n",
       "<style scoped>\n",
       "    .dataframe tbody tr th:only-of-type {\n",
       "        vertical-align: middle;\n",
       "    }\n",
       "\n",
       "    .dataframe tbody tr th {\n",
       "        vertical-align: top;\n",
       "    }\n",
       "\n",
       "    .dataframe thead th {\n",
       "        text-align: right;\n",
       "    }\n",
       "</style>\n",
       "<table border=\"1\" class=\"dataframe\">\n",
       "  <thead>\n",
       "    <tr style=\"text-align: right;\">\n",
       "      <th></th>\n",
       "      <th>mean_fit_time</th>\n",
       "      <th>std_fit_time</th>\n",
       "      <th>mean_score_time</th>\n",
       "      <th>std_score_time</th>\n",
       "      <th>param_C</th>\n",
       "      <th>params</th>\n",
       "      <th>split0_test_score</th>\n",
       "      <th>split1_test_score</th>\n",
       "      <th>split2_test_score</th>\n",
       "      <th>split3_test_score</th>\n",
       "      <th>split4_test_score</th>\n",
       "      <th>mean_test_score</th>\n",
       "      <th>std_test_score</th>\n",
       "      <th>rank_test_score</th>\n",
       "    </tr>\n",
       "  </thead>\n",
       "  <tbody>\n",
       "    <tr>\n",
       "      <th>0</th>\n",
       "      <td>0.908294</td>\n",
       "      <td>0.046838</td>\n",
       "      <td>0.012794</td>\n",
       "      <td>0.004067</td>\n",
       "      <td>0.1</td>\n",
       "      <td>{'C': 0.1}</td>\n",
       "      <td>0.017094</td>\n",
       "      <td>0.012821</td>\n",
       "      <td>0.008547</td>\n",
       "      <td>0.008584</td>\n",
       "      <td>0.012876</td>\n",
       "      <td>0.011984</td>\n",
       "      <td>0.003193</td>\n",
       "      <td>1</td>\n",
       "    </tr>\n",
       "    <tr>\n",
       "      <th>1</th>\n",
       "      <td>1.738832</td>\n",
       "      <td>0.106155</td>\n",
       "      <td>0.006198</td>\n",
       "      <td>0.000979</td>\n",
       "      <td>0.5</td>\n",
       "      <td>{'C': 0.5}</td>\n",
       "      <td>0.017094</td>\n",
       "      <td>0.008547</td>\n",
       "      <td>0.008547</td>\n",
       "      <td>0.008584</td>\n",
       "      <td>0.012876</td>\n",
       "      <td>0.011129</td>\n",
       "      <td>0.003419</td>\n",
       "      <td>2</td>\n",
       "    </tr>\n",
       "    <tr>\n",
       "      <th>2</th>\n",
       "      <td>2.506007</td>\n",
       "      <td>0.046616</td>\n",
       "      <td>0.006598</td>\n",
       "      <td>0.002726</td>\n",
       "      <td>1</td>\n",
       "      <td>{'C': 1.0}</td>\n",
       "      <td>0.008547</td>\n",
       "      <td>0.008547</td>\n",
       "      <td>0.008547</td>\n",
       "      <td>0.008584</td>\n",
       "      <td>0.008584</td>\n",
       "      <td>0.008562</td>\n",
       "      <td>0.000018</td>\n",
       "      <td>3</td>\n",
       "    </tr>\n",
       "    <tr>\n",
       "      <th>3</th>\n",
       "      <td>14.190122</td>\n",
       "      <td>2.725471</td>\n",
       "      <td>0.005199</td>\n",
       "      <td>0.000978</td>\n",
       "      <td>10</td>\n",
       "      <td>{'C': 10.0}</td>\n",
       "      <td>0.008547</td>\n",
       "      <td>0.012821</td>\n",
       "      <td>0.008547</td>\n",
       "      <td>0.004292</td>\n",
       "      <td>0.004292</td>\n",
       "      <td>0.007700</td>\n",
       "      <td>0.003190</td>\n",
       "      <td>4</td>\n",
       "    </tr>\n",
       "  </tbody>\n",
       "</table>\n",
       "</div>"
      ],
      "text/plain": [
       "   mean_fit_time  std_fit_time  mean_score_time  std_score_time param_C  \\\n",
       "0       0.908294      0.046838         0.012794        0.004067     0.1   \n",
       "1       1.738832      0.106155         0.006198        0.000979     0.5   \n",
       "2       2.506007      0.046616         0.006598        0.002726       1   \n",
       "3      14.190122      2.725471         0.005199        0.000978      10   \n",
       "\n",
       "        params  split0_test_score  split1_test_score  split2_test_score  \\\n",
       "0   {'C': 0.1}           0.017094           0.012821           0.008547   \n",
       "1   {'C': 0.5}           0.017094           0.008547           0.008547   \n",
       "2   {'C': 1.0}           0.008547           0.008547           0.008547   \n",
       "3  {'C': 10.0}           0.008547           0.012821           0.008547   \n",
       "\n",
       "   split3_test_score  split4_test_score  mean_test_score  std_test_score  \\\n",
       "0           0.008584           0.012876         0.011984        0.003193   \n",
       "1           0.008584           0.012876         0.011129        0.003419   \n",
       "2           0.008584           0.008584         0.008562        0.000018   \n",
       "3           0.004292           0.004292         0.007700        0.003190   \n",
       "\n",
       "   rank_test_score  \n",
       "0                1  \n",
       "1                2  \n",
       "2                3  \n",
       "3                4  "
      ]
     },
     "execution_count": 64,
     "metadata": {},
     "output_type": "execute_result"
    }
   ],
   "source": [
    "cross_val_results.head() ## Printing first few results."
   ]
  },
  {
   "cell_type": "code",
   "execution_count": 65,
   "metadata": {},
   "outputs": [],
   "source": [
    "# y_train_predict_ = pd.DataFrame(y_train_predict,  columns=['y_train_predict'])\n",
    "# y_train_predict_.head()"
   ]
  },
  {
   "cell_type": "code",
   "execution_count": 66,
   "metadata": {},
   "outputs": [],
   "source": [
    "# y_train_predict_.shape"
   ]
  },
  {
   "cell_type": "code",
   "execution_count": 67,
   "metadata": {},
   "outputs": [],
   "source": [
    "# y_test_predict_ = pd.DataFrame(y_test_predict,  columns=['y_test_predict'])\n",
    "# y_test_predict_.head()"
   ]
  },
  {
   "cell_type": "code",
   "execution_count": 68,
   "metadata": {},
   "outputs": [],
   "source": [
    "# y_test_predict_.shape"
   ]
  }
 ],
 "metadata": {
  "kernelspec": {
   "display_name": "Python 3",
   "language": "python",
   "name": "python3"
  },
  "language_info": {
   "codemirror_mode": {
    "name": "ipython",
    "version": 3
   },
   "file_extension": ".py",
   "mimetype": "text/x-python",
   "name": "python",
   "nbconvert_exporter": "python",
   "pygments_lexer": "ipython3",
   "version": "3.8.5"
  }
 },
 "nbformat": 4,
 "nbformat_minor": 4
}
